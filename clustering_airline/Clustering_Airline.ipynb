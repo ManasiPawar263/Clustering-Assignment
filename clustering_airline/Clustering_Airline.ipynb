{
 "cells": [
  {
   "cell_type": "code",
   "execution_count": 1,
   "id": "88beb750",
   "metadata": {
    "ExecuteTime": {
     "end_time": "2023-02-03T11:07:05.835127Z",
     "start_time": "2023-02-03T11:07:04.033036Z"
    }
   },
   "outputs": [],
   "source": [
    "# Import libraries\n",
    "\n",
    "import pandas as pd \n",
    "import numpy as np\n",
    "import matplotlib.pyplot as plt\n",
    "import seaborn as sns\n",
    "import scipy.cluster.hierarchy as sch \n",
    "from sklearn.preprocessing import MinMaxScaler\n",
    "from sklearn.cluster import AgglomerativeClustering\n",
    "import warnings\n",
    "warnings.filterwarnings('ignore')"
   ]
  },
  {
   "cell_type": "code",
   "execution_count": 2,
   "id": "f9de3ee1",
   "metadata": {
    "ExecuteTime": {
     "end_time": "2023-02-03T11:07:06.412718Z",
     "start_time": "2023-02-03T11:07:05.835127Z"
    }
   },
   "outputs": [
    {
     "data": {
      "text/html": [
       "<div>\n",
       "<style scoped>\n",
       "    .dataframe tbody tr th:only-of-type {\n",
       "        vertical-align: middle;\n",
       "    }\n",
       "\n",
       "    .dataframe tbody tr th {\n",
       "        vertical-align: top;\n",
       "    }\n",
       "\n",
       "    .dataframe thead th {\n",
       "        text-align: right;\n",
       "    }\n",
       "</style>\n",
       "<table border=\"1\" class=\"dataframe\">\n",
       "  <thead>\n",
       "    <tr style=\"text-align: right;\">\n",
       "      <th></th>\n",
       "      <th>ID#</th>\n",
       "      <th>Balance</th>\n",
       "      <th>Qual_miles</th>\n",
       "      <th>cc1_miles</th>\n",
       "      <th>cc2_miles</th>\n",
       "      <th>cc3_miles</th>\n",
       "      <th>Bonus_miles</th>\n",
       "      <th>Bonus_trans</th>\n",
       "      <th>Flight_miles_12mo</th>\n",
       "      <th>Flight_trans_12</th>\n",
       "      <th>Days_since_enroll</th>\n",
       "      <th>Award?</th>\n",
       "    </tr>\n",
       "  </thead>\n",
       "  <tbody>\n",
       "    <tr>\n",
       "      <th>0</th>\n",
       "      <td>1</td>\n",
       "      <td>28143</td>\n",
       "      <td>0</td>\n",
       "      <td>1</td>\n",
       "      <td>1</td>\n",
       "      <td>1</td>\n",
       "      <td>174</td>\n",
       "      <td>1</td>\n",
       "      <td>0</td>\n",
       "      <td>0</td>\n",
       "      <td>7000</td>\n",
       "      <td>0</td>\n",
       "    </tr>\n",
       "    <tr>\n",
       "      <th>1</th>\n",
       "      <td>2</td>\n",
       "      <td>19244</td>\n",
       "      <td>0</td>\n",
       "      <td>1</td>\n",
       "      <td>1</td>\n",
       "      <td>1</td>\n",
       "      <td>215</td>\n",
       "      <td>2</td>\n",
       "      <td>0</td>\n",
       "      <td>0</td>\n",
       "      <td>6968</td>\n",
       "      <td>0</td>\n",
       "    </tr>\n",
       "    <tr>\n",
       "      <th>2</th>\n",
       "      <td>3</td>\n",
       "      <td>41354</td>\n",
       "      <td>0</td>\n",
       "      <td>1</td>\n",
       "      <td>1</td>\n",
       "      <td>1</td>\n",
       "      <td>4123</td>\n",
       "      <td>4</td>\n",
       "      <td>0</td>\n",
       "      <td>0</td>\n",
       "      <td>7034</td>\n",
       "      <td>0</td>\n",
       "    </tr>\n",
       "    <tr>\n",
       "      <th>3</th>\n",
       "      <td>4</td>\n",
       "      <td>14776</td>\n",
       "      <td>0</td>\n",
       "      <td>1</td>\n",
       "      <td>1</td>\n",
       "      <td>1</td>\n",
       "      <td>500</td>\n",
       "      <td>1</td>\n",
       "      <td>0</td>\n",
       "      <td>0</td>\n",
       "      <td>6952</td>\n",
       "      <td>0</td>\n",
       "    </tr>\n",
       "    <tr>\n",
       "      <th>4</th>\n",
       "      <td>5</td>\n",
       "      <td>97752</td>\n",
       "      <td>0</td>\n",
       "      <td>4</td>\n",
       "      <td>1</td>\n",
       "      <td>1</td>\n",
       "      <td>43300</td>\n",
       "      <td>26</td>\n",
       "      <td>2077</td>\n",
       "      <td>4</td>\n",
       "      <td>6935</td>\n",
       "      <td>1</td>\n",
       "    </tr>\n",
       "    <tr>\n",
       "      <th>...</th>\n",
       "      <td>...</td>\n",
       "      <td>...</td>\n",
       "      <td>...</td>\n",
       "      <td>...</td>\n",
       "      <td>...</td>\n",
       "      <td>...</td>\n",
       "      <td>...</td>\n",
       "      <td>...</td>\n",
       "      <td>...</td>\n",
       "      <td>...</td>\n",
       "      <td>...</td>\n",
       "      <td>...</td>\n",
       "    </tr>\n",
       "    <tr>\n",
       "      <th>3994</th>\n",
       "      <td>4017</td>\n",
       "      <td>18476</td>\n",
       "      <td>0</td>\n",
       "      <td>1</td>\n",
       "      <td>1</td>\n",
       "      <td>1</td>\n",
       "      <td>8525</td>\n",
       "      <td>4</td>\n",
       "      <td>200</td>\n",
       "      <td>1</td>\n",
       "      <td>1403</td>\n",
       "      <td>1</td>\n",
       "    </tr>\n",
       "    <tr>\n",
       "      <th>3995</th>\n",
       "      <td>4018</td>\n",
       "      <td>64385</td>\n",
       "      <td>0</td>\n",
       "      <td>1</td>\n",
       "      <td>1</td>\n",
       "      <td>1</td>\n",
       "      <td>981</td>\n",
       "      <td>5</td>\n",
       "      <td>0</td>\n",
       "      <td>0</td>\n",
       "      <td>1395</td>\n",
       "      <td>1</td>\n",
       "    </tr>\n",
       "    <tr>\n",
       "      <th>3996</th>\n",
       "      <td>4019</td>\n",
       "      <td>73597</td>\n",
       "      <td>0</td>\n",
       "      <td>3</td>\n",
       "      <td>1</td>\n",
       "      <td>1</td>\n",
       "      <td>25447</td>\n",
       "      <td>8</td>\n",
       "      <td>0</td>\n",
       "      <td>0</td>\n",
       "      <td>1402</td>\n",
       "      <td>1</td>\n",
       "    </tr>\n",
       "    <tr>\n",
       "      <th>3997</th>\n",
       "      <td>4020</td>\n",
       "      <td>54899</td>\n",
       "      <td>0</td>\n",
       "      <td>1</td>\n",
       "      <td>1</td>\n",
       "      <td>1</td>\n",
       "      <td>500</td>\n",
       "      <td>1</td>\n",
       "      <td>500</td>\n",
       "      <td>1</td>\n",
       "      <td>1401</td>\n",
       "      <td>0</td>\n",
       "    </tr>\n",
       "    <tr>\n",
       "      <th>3998</th>\n",
       "      <td>4021</td>\n",
       "      <td>3016</td>\n",
       "      <td>0</td>\n",
       "      <td>1</td>\n",
       "      <td>1</td>\n",
       "      <td>1</td>\n",
       "      <td>0</td>\n",
       "      <td>0</td>\n",
       "      <td>0</td>\n",
       "      <td>0</td>\n",
       "      <td>1398</td>\n",
       "      <td>0</td>\n",
       "    </tr>\n",
       "  </tbody>\n",
       "</table>\n",
       "<p>3999 rows × 12 columns</p>\n",
       "</div>"
      ],
      "text/plain": [
       "       ID#  Balance  Qual_miles  cc1_miles  cc2_miles  cc3_miles  Bonus_miles  \\\n",
       "0        1    28143           0          1          1          1          174   \n",
       "1        2    19244           0          1          1          1          215   \n",
       "2        3    41354           0          1          1          1         4123   \n",
       "3        4    14776           0          1          1          1          500   \n",
       "4        5    97752           0          4          1          1        43300   \n",
       "...    ...      ...         ...        ...        ...        ...          ...   \n",
       "3994  4017    18476           0          1          1          1         8525   \n",
       "3995  4018    64385           0          1          1          1          981   \n",
       "3996  4019    73597           0          3          1          1        25447   \n",
       "3997  4020    54899           0          1          1          1          500   \n",
       "3998  4021     3016           0          1          1          1            0   \n",
       "\n",
       "      Bonus_trans  Flight_miles_12mo  Flight_trans_12  Days_since_enroll  \\\n",
       "0               1                  0                0               7000   \n",
       "1               2                  0                0               6968   \n",
       "2               4                  0                0               7034   \n",
       "3               1                  0                0               6952   \n",
       "4              26               2077                4               6935   \n",
       "...           ...                ...              ...                ...   \n",
       "3994            4                200                1               1403   \n",
       "3995            5                  0                0               1395   \n",
       "3996            8                  0                0               1402   \n",
       "3997            1                500                1               1401   \n",
       "3998            0                  0                0               1398   \n",
       "\n",
       "      Award?  \n",
       "0          0  \n",
       "1          0  \n",
       "2          0  \n",
       "3          0  \n",
       "4          1  \n",
       "...      ...  \n",
       "3994       1  \n",
       "3995       1  \n",
       "3996       1  \n",
       "3997       0  \n",
       "3998       0  \n",
       "\n",
       "[3999 rows x 12 columns]"
      ]
     },
     "execution_count": 2,
     "metadata": {},
     "output_type": "execute_result"
    }
   ],
   "source": [
    "df = pd.read_excel('EastWestAirlines.xlsx', sheet_name = 'data')\n",
    "df"
   ]
  },
  {
   "cell_type": "code",
   "execution_count": 3,
   "id": "054fe582",
   "metadata": {
    "ExecuteTime": {
     "end_time": "2023-02-03T11:07:06.425704Z",
     "start_time": "2023-02-03T11:07:06.414326Z"
    }
   },
   "outputs": [],
   "source": [
    "# Data Preprocessing and EDA"
   ]
  },
  {
   "cell_type": "code",
   "execution_count": 4,
   "id": "58dec94b",
   "metadata": {
    "ExecuteTime": {
     "end_time": "2023-02-03T11:07:06.460460Z",
     "start_time": "2023-02-03T11:07:06.426205Z"
    }
   },
   "outputs": [
    {
     "name": "stdout",
     "output_type": "stream",
     "text": [
      "<class 'pandas.core.frame.DataFrame'>\n",
      "RangeIndex: 3999 entries, 0 to 3998\n",
      "Data columns (total 12 columns):\n",
      " #   Column             Non-Null Count  Dtype\n",
      "---  ------             --------------  -----\n",
      " 0   ID#                3999 non-null   int64\n",
      " 1   Balance            3999 non-null   int64\n",
      " 2   Qual_miles         3999 non-null   int64\n",
      " 3   cc1_miles          3999 non-null   int64\n",
      " 4   cc2_miles          3999 non-null   int64\n",
      " 5   cc3_miles          3999 non-null   int64\n",
      " 6   Bonus_miles        3999 non-null   int64\n",
      " 7   Bonus_trans        3999 non-null   int64\n",
      " 8   Flight_miles_12mo  3999 non-null   int64\n",
      " 9   Flight_trans_12    3999 non-null   int64\n",
      " 10  Days_since_enroll  3999 non-null   int64\n",
      " 11  Award?             3999 non-null   int64\n",
      "dtypes: int64(12)\n",
      "memory usage: 375.0 KB\n"
     ]
    }
   ],
   "source": [
    "df.info()"
   ]
  },
  {
   "cell_type": "code",
   "execution_count": 5,
   "id": "3cc86440",
   "metadata": {
    "ExecuteTime": {
     "end_time": "2023-02-03T11:07:06.492408Z",
     "start_time": "2023-02-03T11:07:06.460460Z"
    }
   },
   "outputs": [
    {
     "data": {
      "text/html": [
       "<div>\n",
       "<style scoped>\n",
       "    .dataframe tbody tr th:only-of-type {\n",
       "        vertical-align: middle;\n",
       "    }\n",
       "\n",
       "    .dataframe tbody tr th {\n",
       "        vertical-align: top;\n",
       "    }\n",
       "\n",
       "    .dataframe thead th {\n",
       "        text-align: right;\n",
       "    }\n",
       "</style>\n",
       "<table border=\"1\" class=\"dataframe\">\n",
       "  <thead>\n",
       "    <tr style=\"text-align: right;\">\n",
       "      <th></th>\n",
       "      <th>ID</th>\n",
       "      <th>Balance</th>\n",
       "      <th>Qual_miles</th>\n",
       "      <th>cc1_miles</th>\n",
       "      <th>cc2_miles</th>\n",
       "      <th>cc3_miles</th>\n",
       "      <th>Bonus_miles</th>\n",
       "      <th>Bonus_trans</th>\n",
       "      <th>Flight_miles_12mo</th>\n",
       "      <th>Flight_trans_12</th>\n",
       "      <th>Days_since_enroll</th>\n",
       "      <th>Award</th>\n",
       "    </tr>\n",
       "  </thead>\n",
       "  <tbody>\n",
       "    <tr>\n",
       "      <th>0</th>\n",
       "      <td>1</td>\n",
       "      <td>28143</td>\n",
       "      <td>0</td>\n",
       "      <td>1</td>\n",
       "      <td>1</td>\n",
       "      <td>1</td>\n",
       "      <td>174</td>\n",
       "      <td>1</td>\n",
       "      <td>0</td>\n",
       "      <td>0</td>\n",
       "      <td>7000</td>\n",
       "      <td>0</td>\n",
       "    </tr>\n",
       "    <tr>\n",
       "      <th>1</th>\n",
       "      <td>2</td>\n",
       "      <td>19244</td>\n",
       "      <td>0</td>\n",
       "      <td>1</td>\n",
       "      <td>1</td>\n",
       "      <td>1</td>\n",
       "      <td>215</td>\n",
       "      <td>2</td>\n",
       "      <td>0</td>\n",
       "      <td>0</td>\n",
       "      <td>6968</td>\n",
       "      <td>0</td>\n",
       "    </tr>\n",
       "    <tr>\n",
       "      <th>2</th>\n",
       "      <td>3</td>\n",
       "      <td>41354</td>\n",
       "      <td>0</td>\n",
       "      <td>1</td>\n",
       "      <td>1</td>\n",
       "      <td>1</td>\n",
       "      <td>4123</td>\n",
       "      <td>4</td>\n",
       "      <td>0</td>\n",
       "      <td>0</td>\n",
       "      <td>7034</td>\n",
       "      <td>0</td>\n",
       "    </tr>\n",
       "    <tr>\n",
       "      <th>3</th>\n",
       "      <td>4</td>\n",
       "      <td>14776</td>\n",
       "      <td>0</td>\n",
       "      <td>1</td>\n",
       "      <td>1</td>\n",
       "      <td>1</td>\n",
       "      <td>500</td>\n",
       "      <td>1</td>\n",
       "      <td>0</td>\n",
       "      <td>0</td>\n",
       "      <td>6952</td>\n",
       "      <td>0</td>\n",
       "    </tr>\n",
       "    <tr>\n",
       "      <th>4</th>\n",
       "      <td>5</td>\n",
       "      <td>97752</td>\n",
       "      <td>0</td>\n",
       "      <td>4</td>\n",
       "      <td>1</td>\n",
       "      <td>1</td>\n",
       "      <td>43300</td>\n",
       "      <td>26</td>\n",
       "      <td>2077</td>\n",
       "      <td>4</td>\n",
       "      <td>6935</td>\n",
       "      <td>1</td>\n",
       "    </tr>\n",
       "  </tbody>\n",
       "</table>\n",
       "</div>"
      ],
      "text/plain": [
       "   ID  Balance  Qual_miles  cc1_miles  cc2_miles  cc3_miles  Bonus_miles  \\\n",
       "0   1    28143           0          1          1          1          174   \n",
       "1   2    19244           0          1          1          1          215   \n",
       "2   3    41354           0          1          1          1         4123   \n",
       "3   4    14776           0          1          1          1          500   \n",
       "4   5    97752           0          4          1          1        43300   \n",
       "\n",
       "   Bonus_trans  Flight_miles_12mo  Flight_trans_12  Days_since_enroll  Award  \n",
       "0            1                  0                0               7000      0  \n",
       "1            2                  0                0               6968      0  \n",
       "2            4                  0                0               7034      0  \n",
       "3            1                  0                0               6952      0  \n",
       "4           26               2077                4               6935      1  "
      ]
     },
     "execution_count": 5,
     "metadata": {},
     "output_type": "execute_result"
    }
   ],
   "source": [
    "# Renaming columns\n",
    "\n",
    "df = df.rename({'ID#':'ID','Award?':'Award'}, axis = 1)\n",
    "df.head()"
   ]
  },
  {
   "cell_type": "code",
   "execution_count": 6,
   "id": "d035fdbf",
   "metadata": {
    "ExecuteTime": {
     "end_time": "2023-02-03T11:07:06.508420Z",
     "start_time": "2023-02-03T11:07:06.492408Z"
    }
   },
   "outputs": [],
   "source": [
    "# Checking for all the values in dataset of type integer, if not replacing them with nan\n",
    "\n",
    "def check_int(df):\n",
    "    count = 0\n",
    "    for row in df:\n",
    "        try:\n",
    "            if type(row) != int:\n",
    "                df.loc[count] = np.nan\n",
    "        except:\n",
    "            pass\n",
    "        count +=1"
   ]
  },
  {
   "cell_type": "code",
   "execution_count": 7,
   "id": "6a30dec7",
   "metadata": {
    "ExecuteTime": {
     "end_time": "2023-02-03T11:07:06.540769Z",
     "start_time": "2023-02-03T11:07:06.508420Z"
    }
   },
   "outputs": [],
   "source": [
    "check_int(df[df.columns])"
   ]
  },
  {
   "cell_type": "code",
   "execution_count": 8,
   "id": "201635e7",
   "metadata": {
    "ExecuteTime": {
     "end_time": "2023-02-03T11:07:06.556733Z",
     "start_time": "2023-02-03T11:07:06.540769Z"
    }
   },
   "outputs": [
    {
     "data": {
      "text/plain": [
       "ID                   0\n",
       "Balance              0\n",
       "Qual_miles           0\n",
       "cc1_miles            0\n",
       "cc2_miles            0\n",
       "cc3_miles            0\n",
       "Bonus_miles          0\n",
       "Bonus_trans          0\n",
       "Flight_miles_12mo    0\n",
       "Flight_trans_12      0\n",
       "Days_since_enroll    0\n",
       "Award                0\n",
       "dtype: int64"
      ]
     },
     "execution_count": 8,
     "metadata": {},
     "output_type": "execute_result"
    }
   ],
   "source": [
    "df.isna().sum()"
   ]
  },
  {
   "cell_type": "code",
   "execution_count": 9,
   "id": "24011fa8",
   "metadata": {
    "ExecuteTime": {
     "end_time": "2023-02-03T11:07:06.596649Z",
     "start_time": "2023-02-03T11:07:06.556733Z"
    }
   },
   "outputs": [
    {
     "data": {
      "text/html": [
       "<div>\n",
       "<style scoped>\n",
       "    .dataframe tbody tr th:only-of-type {\n",
       "        vertical-align: middle;\n",
       "    }\n",
       "\n",
       "    .dataframe tbody tr th {\n",
       "        vertical-align: top;\n",
       "    }\n",
       "\n",
       "    .dataframe thead th {\n",
       "        text-align: right;\n",
       "    }\n",
       "</style>\n",
       "<table border=\"1\" class=\"dataframe\">\n",
       "  <thead>\n",
       "    <tr style=\"text-align: right;\">\n",
       "      <th></th>\n",
       "      <th>count</th>\n",
       "      <th>mean</th>\n",
       "      <th>std</th>\n",
       "      <th>min</th>\n",
       "      <th>25%</th>\n",
       "      <th>50%</th>\n",
       "      <th>75%</th>\n",
       "      <th>max</th>\n",
       "    </tr>\n",
       "  </thead>\n",
       "  <tbody>\n",
       "    <tr>\n",
       "      <th>ID</th>\n",
       "      <td>3999.0</td>\n",
       "      <td>2014.819455</td>\n",
       "      <td>1160.764358</td>\n",
       "      <td>1.0</td>\n",
       "      <td>1010.5</td>\n",
       "      <td>2016.0</td>\n",
       "      <td>3020.5</td>\n",
       "      <td>4021.0</td>\n",
       "    </tr>\n",
       "    <tr>\n",
       "      <th>Balance</th>\n",
       "      <td>3999.0</td>\n",
       "      <td>73601.327582</td>\n",
       "      <td>100775.664958</td>\n",
       "      <td>0.0</td>\n",
       "      <td>18527.5</td>\n",
       "      <td>43097.0</td>\n",
       "      <td>92404.0</td>\n",
       "      <td>1704838.0</td>\n",
       "    </tr>\n",
       "    <tr>\n",
       "      <th>Qual_miles</th>\n",
       "      <td>3999.0</td>\n",
       "      <td>144.114529</td>\n",
       "      <td>773.663804</td>\n",
       "      <td>0.0</td>\n",
       "      <td>0.0</td>\n",
       "      <td>0.0</td>\n",
       "      <td>0.0</td>\n",
       "      <td>11148.0</td>\n",
       "    </tr>\n",
       "    <tr>\n",
       "      <th>cc1_miles</th>\n",
       "      <td>3999.0</td>\n",
       "      <td>2.059515</td>\n",
       "      <td>1.376919</td>\n",
       "      <td>1.0</td>\n",
       "      <td>1.0</td>\n",
       "      <td>1.0</td>\n",
       "      <td>3.0</td>\n",
       "      <td>5.0</td>\n",
       "    </tr>\n",
       "    <tr>\n",
       "      <th>cc2_miles</th>\n",
       "      <td>3999.0</td>\n",
       "      <td>1.014504</td>\n",
       "      <td>0.147650</td>\n",
       "      <td>1.0</td>\n",
       "      <td>1.0</td>\n",
       "      <td>1.0</td>\n",
       "      <td>1.0</td>\n",
       "      <td>3.0</td>\n",
       "    </tr>\n",
       "    <tr>\n",
       "      <th>cc3_miles</th>\n",
       "      <td>3999.0</td>\n",
       "      <td>1.012253</td>\n",
       "      <td>0.195241</td>\n",
       "      <td>1.0</td>\n",
       "      <td>1.0</td>\n",
       "      <td>1.0</td>\n",
       "      <td>1.0</td>\n",
       "      <td>5.0</td>\n",
       "    </tr>\n",
       "    <tr>\n",
       "      <th>Bonus_miles</th>\n",
       "      <td>3999.0</td>\n",
       "      <td>17144.846212</td>\n",
       "      <td>24150.967826</td>\n",
       "      <td>0.0</td>\n",
       "      <td>1250.0</td>\n",
       "      <td>7171.0</td>\n",
       "      <td>23800.5</td>\n",
       "      <td>263685.0</td>\n",
       "    </tr>\n",
       "    <tr>\n",
       "      <th>Bonus_trans</th>\n",
       "      <td>3999.0</td>\n",
       "      <td>11.601900</td>\n",
       "      <td>9.603810</td>\n",
       "      <td>0.0</td>\n",
       "      <td>3.0</td>\n",
       "      <td>12.0</td>\n",
       "      <td>17.0</td>\n",
       "      <td>86.0</td>\n",
       "    </tr>\n",
       "    <tr>\n",
       "      <th>Flight_miles_12mo</th>\n",
       "      <td>3999.0</td>\n",
       "      <td>460.055764</td>\n",
       "      <td>1400.209171</td>\n",
       "      <td>0.0</td>\n",
       "      <td>0.0</td>\n",
       "      <td>0.0</td>\n",
       "      <td>311.0</td>\n",
       "      <td>30817.0</td>\n",
       "    </tr>\n",
       "    <tr>\n",
       "      <th>Flight_trans_12</th>\n",
       "      <td>3999.0</td>\n",
       "      <td>1.373593</td>\n",
       "      <td>3.793172</td>\n",
       "      <td>0.0</td>\n",
       "      <td>0.0</td>\n",
       "      <td>0.0</td>\n",
       "      <td>1.0</td>\n",
       "      <td>53.0</td>\n",
       "    </tr>\n",
       "    <tr>\n",
       "      <th>Days_since_enroll</th>\n",
       "      <td>3999.0</td>\n",
       "      <td>4118.559390</td>\n",
       "      <td>2065.134540</td>\n",
       "      <td>2.0</td>\n",
       "      <td>2330.0</td>\n",
       "      <td>4096.0</td>\n",
       "      <td>5790.5</td>\n",
       "      <td>8296.0</td>\n",
       "    </tr>\n",
       "    <tr>\n",
       "      <th>Award</th>\n",
       "      <td>3999.0</td>\n",
       "      <td>0.370343</td>\n",
       "      <td>0.482957</td>\n",
       "      <td>0.0</td>\n",
       "      <td>0.0</td>\n",
       "      <td>0.0</td>\n",
       "      <td>1.0</td>\n",
       "      <td>1.0</td>\n",
       "    </tr>\n",
       "  </tbody>\n",
       "</table>\n",
       "</div>"
      ],
      "text/plain": [
       "                    count          mean            std  min      25%      50%  \\\n",
       "ID                 3999.0   2014.819455    1160.764358  1.0   1010.5   2016.0   \n",
       "Balance            3999.0  73601.327582  100775.664958  0.0  18527.5  43097.0   \n",
       "Qual_miles         3999.0    144.114529     773.663804  0.0      0.0      0.0   \n",
       "cc1_miles          3999.0      2.059515       1.376919  1.0      1.0      1.0   \n",
       "cc2_miles          3999.0      1.014504       0.147650  1.0      1.0      1.0   \n",
       "cc3_miles          3999.0      1.012253       0.195241  1.0      1.0      1.0   \n",
       "Bonus_miles        3999.0  17144.846212   24150.967826  0.0   1250.0   7171.0   \n",
       "Bonus_trans        3999.0     11.601900       9.603810  0.0      3.0     12.0   \n",
       "Flight_miles_12mo  3999.0    460.055764    1400.209171  0.0      0.0      0.0   \n",
       "Flight_trans_12    3999.0      1.373593       3.793172  0.0      0.0      0.0   \n",
       "Days_since_enroll  3999.0   4118.559390    2065.134540  2.0   2330.0   4096.0   \n",
       "Award              3999.0      0.370343       0.482957  0.0      0.0      0.0   \n",
       "\n",
       "                       75%        max  \n",
       "ID                  3020.5     4021.0  \n",
       "Balance            92404.0  1704838.0  \n",
       "Qual_miles             0.0    11148.0  \n",
       "cc1_miles              3.0        5.0  \n",
       "cc2_miles              1.0        3.0  \n",
       "cc3_miles              1.0        5.0  \n",
       "Bonus_miles        23800.5   263685.0  \n",
       "Bonus_trans           17.0       86.0  \n",
       "Flight_miles_12mo    311.0    30817.0  \n",
       "Flight_trans_12        1.0       53.0  \n",
       "Days_since_enroll   5790.5     8296.0  \n",
       "Award                  1.0        1.0  "
      ]
     },
     "execution_count": 9,
     "metadata": {},
     "output_type": "execute_result"
    }
   ],
   "source": [
    "df.describe().T"
   ]
  },
  {
   "cell_type": "code",
   "execution_count": 10,
   "id": "e749ccb4",
   "metadata": {
    "ExecuteTime": {
     "end_time": "2023-02-03T11:07:06.764791Z",
     "start_time": "2023-02-03T11:07:06.598724Z"
    }
   },
   "outputs": [
    {
     "data": {
      "text/plain": [
       "<AxesSubplot:ylabel='Award'>"
      ]
     },
     "execution_count": 10,
     "metadata": {},
     "output_type": "execute_result"
    },
    {
     "data": {
      "image/png": "[encoded data removed]",
      "text/plain": [
       "<Figure size 640x480 with 1 Axes>"
      ]
     },
     "metadata": {},
     "output_type": "display_data"
    }
   ],
   "source": [
    "# Checking previously awarded miles ratio\n",
    "\n",
    "df['Award'].value_counts().plot(kind='pie', autopct='%2.0f%%', fontsize='18', shadow =True)"
   ]
  },
  {
   "cell_type": "code",
   "execution_count": 11,
   "id": "b6e4233b",
   "metadata": {
    "ExecuteTime": {
     "end_time": "2023-02-03T11:07:28.892662Z",
     "start_time": "2023-02-03T11:07:06.764791Z"
    }
   },
   "outputs": [
    {
     "data": {
      "image/png": "[encoded data removed]",
      "text/plain": [
       "<Figure size 640x480 with 1 Axes>"
      ]
     },
     "metadata": {},
     "output_type": "display_data"
    }
   ],
   "source": [
    "# Checking relation between Balance and Days_since_enroll\n",
    "\n",
    "fig, ax = plt.subplots()\n",
    "ax = sns.lineplot(x = 'Days_since_enroll', y='Balance', data = df)"
   ]
  },
  {
   "cell_type": "markdown",
   "id": "9533b8c7",
   "metadata": {},
   "source": [
    "# Agglomerative Clustering"
   ]
  },
  {
   "cell_type": "code",
   "execution_count": 12,
   "id": "1616545e",
   "metadata": {
    "ExecuteTime": {
     "end_time": "2023-02-03T11:07:28.933719Z",
     "start_time": "2023-02-03T11:07:28.894958Z"
    }
   },
   "outputs": [
    {
     "data": {
      "text/html": [
       "<div>\n",
       "<style scoped>\n",
       "    .dataframe tbody tr th:only-of-type {\n",
       "        vertical-align: middle;\n",
       "    }\n",
       "\n",
       "    .dataframe tbody tr th {\n",
       "        vertical-align: top;\n",
       "    }\n",
       "\n",
       "    .dataframe thead th {\n",
       "        text-align: right;\n",
       "    }\n",
       "</style>\n",
       "<table border=\"1\" class=\"dataframe\">\n",
       "  <thead>\n",
       "    <tr style=\"text-align: right;\">\n",
       "      <th></th>\n",
       "      <th>Balance</th>\n",
       "      <th>Qual_miles</th>\n",
       "      <th>cc1_miles</th>\n",
       "      <th>cc2_miles</th>\n",
       "      <th>cc3_miles</th>\n",
       "      <th>Bonus_miles</th>\n",
       "      <th>Bonus_trans</th>\n",
       "      <th>Flight_miles_12mo</th>\n",
       "      <th>Flight_trans_12</th>\n",
       "      <th>Days_since_enroll</th>\n",
       "      <th>Award</th>\n",
       "    </tr>\n",
       "  </thead>\n",
       "  <tbody>\n",
       "    <tr>\n",
       "      <th>0</th>\n",
       "      <td>28143</td>\n",
       "      <td>0</td>\n",
       "      <td>1</td>\n",
       "      <td>1</td>\n",
       "      <td>1</td>\n",
       "      <td>174</td>\n",
       "      <td>1</td>\n",
       "      <td>0</td>\n",
       "      <td>0</td>\n",
       "      <td>7000</td>\n",
       "      <td>0</td>\n",
       "    </tr>\n",
       "    <tr>\n",
       "      <th>1</th>\n",
       "      <td>19244</td>\n",
       "      <td>0</td>\n",
       "      <td>1</td>\n",
       "      <td>1</td>\n",
       "      <td>1</td>\n",
       "      <td>215</td>\n",
       "      <td>2</td>\n",
       "      <td>0</td>\n",
       "      <td>0</td>\n",
       "      <td>6968</td>\n",
       "      <td>0</td>\n",
       "    </tr>\n",
       "    <tr>\n",
       "      <th>2</th>\n",
       "      <td>41354</td>\n",
       "      <td>0</td>\n",
       "      <td>1</td>\n",
       "      <td>1</td>\n",
       "      <td>1</td>\n",
       "      <td>4123</td>\n",
       "      <td>4</td>\n",
       "      <td>0</td>\n",
       "      <td>0</td>\n",
       "      <td>7034</td>\n",
       "      <td>0</td>\n",
       "    </tr>\n",
       "    <tr>\n",
       "      <th>3</th>\n",
       "      <td>14776</td>\n",
       "      <td>0</td>\n",
       "      <td>1</td>\n",
       "      <td>1</td>\n",
       "      <td>1</td>\n",
       "      <td>500</td>\n",
       "      <td>1</td>\n",
       "      <td>0</td>\n",
       "      <td>0</td>\n",
       "      <td>6952</td>\n",
       "      <td>0</td>\n",
       "    </tr>\n",
       "    <tr>\n",
       "      <th>4</th>\n",
       "      <td>97752</td>\n",
       "      <td>0</td>\n",
       "      <td>4</td>\n",
       "      <td>1</td>\n",
       "      <td>1</td>\n",
       "      <td>43300</td>\n",
       "      <td>26</td>\n",
       "      <td>2077</td>\n",
       "      <td>4</td>\n",
       "      <td>6935</td>\n",
       "      <td>1</td>\n",
       "    </tr>\n",
       "  </tbody>\n",
       "</table>\n",
       "</div>"
      ],
      "text/plain": [
       "   Balance  Qual_miles  cc1_miles  cc2_miles  cc3_miles  Bonus_miles  \\\n",
       "0    28143           0          1          1          1          174   \n",
       "1    19244           0          1          1          1          215   \n",
       "2    41354           0          1          1          1         4123   \n",
       "3    14776           0          1          1          1          500   \n",
       "4    97752           0          4          1          1        43300   \n",
       "\n",
       "   Bonus_trans  Flight_miles_12mo  Flight_trans_12  Days_since_enroll  Award  \n",
       "0            1                  0                0               7000      0  \n",
       "1            2                  0                0               6968      0  \n",
       "2            4                  0                0               7034      0  \n",
       "3            1                  0                0               6952      0  \n",
       "4           26               2077                4               6935      1  "
      ]
     },
     "execution_count": 12,
     "metadata": {},
     "output_type": "execute_result"
    }
   ],
   "source": [
    "df1 = df.drop('ID', axis = 1)\n",
    "df1.head()"
   ]
  },
  {
   "cell_type": "code",
   "execution_count": 13,
   "id": "2e0af8c7",
   "metadata": {
    "ExecuteTime": {
     "end_time": "2023-02-03T11:07:28.961073Z",
     "start_time": "2023-02-03T11:07:28.939324Z"
    }
   },
   "outputs": [],
   "source": [
    "# Import necessary library\n",
    "\n",
    "from sklearn.preprocessing import MinMaxScaler\n",
    "from sklearn.preprocessing import StandardScaler"
   ]
  },
  {
   "cell_type": "code",
   "execution_count": 14,
   "id": "dadfc890",
   "metadata": {
    "ExecuteTime": {
     "end_time": "2023-02-03T11:07:28.975081Z",
     "start_time": "2023-02-03T11:07:28.961073Z"
    }
   },
   "outputs": [],
   "source": [
    "# We'll check clustering for two different scaling functions\n",
    "\n",
    "scaler1 = MinMaxScaler()\n",
    "scaler2 = StandardScaler()"
   ]
  },
  {
   "cell_type": "code",
   "execution_count": 15,
   "id": "dbf60d95",
   "metadata": {
    "ExecuteTime": {
     "end_time": "2023-02-03T11:07:29.009384Z",
     "start_time": "2023-02-03T11:07:28.977054Z"
    }
   },
   "outputs": [
    {
     "name": "stdout",
     "output_type": "stream",
     "text": [
      "[[0.01650773 0.         0.         ... 0.         0.84374246 0.        ]\n",
      " [0.01128788 0.         0.         ... 0.         0.83988425 0.        ]\n",
      " [0.02425685 0.         0.         ... 0.         0.84784181 0.        ]\n",
      " ...\n",
      " [0.0431695  0.         0.5        ... 0.         0.16879672 1.        ]\n",
      " [0.03220189 0.         0.         ... 0.01886792 0.16867615 0.        ]\n",
      " [0.00176908 0.         0.         ... 0.         0.16831444 0.        ]]\n",
      "\n",
      "\n",
      "[[-4.51140783e-01 -1.86298687e-01 -7.69578406e-01 ... -3.62167870e-01\n",
      "   1.39545434e+00 -7.66919299e-01]\n",
      " [-5.39456874e-01 -1.86298687e-01 -7.69578406e-01 ... -3.62167870e-01\n",
      "   1.37995704e+00 -7.66919299e-01]\n",
      " [-3.20031232e-01 -1.86298687e-01 -7.69578406e-01 ... -3.62167870e-01\n",
      "   1.41192021e+00 -7.66919299e-01]\n",
      " ...\n",
      " [-4.29480975e-05 -1.86298687e-01  6.83121167e-01 ... -3.62167870e-01\n",
      "  -1.31560393e+00  1.30391816e+00]\n",
      " [-1.85606976e-01 -1.86298687e-01 -7.69578406e-01 ... -9.85033311e-02\n",
      "  -1.31608822e+00 -7.66919299e-01]\n",
      " [-7.00507951e-01 -1.86298687e-01 -7.69578406e-01 ... -3.62167870e-01\n",
      "  -1.31754109e+00 -7.66919299e-01]]\n"
     ]
    }
   ],
   "source": [
    "# Normalizing Dataset\n",
    "\n",
    "scaler1_df = scaler1.fit_transform(df1)\n",
    "print(scaler1_df)\n",
    "\n",
    "print('\\n')\n",
    "\n",
    "scaler2_df = scaler2.fit_transform(df1)\n",
    "print(scaler2_df)"
   ]
  },
  {
   "cell_type": "code",
   "execution_count": 16,
   "id": "00e62bca",
   "metadata": {
    "ExecuteTime": {
     "end_time": "2023-02-03T11:07:29.034822Z",
     "start_time": "2023-02-03T11:07:29.013338Z"
    }
   },
   "outputs": [
    {
     "data": {
      "text/plain": [
       "AgglomerativeClustering(n_clusters=5)"
      ]
     },
     "execution_count": 16,
     "metadata": {},
     "output_type": "execute_result"
    }
   ],
   "source": [
    "# Creating clusters\n",
    "\n",
    "H_clusters = AgglomerativeClustering(n_clusters = 5,affinity = 'euclidean', linkage = 'ward')\n",
    "H_clusters"
   ]
  },
  {
   "cell_type": "code",
   "execution_count": 17,
   "id": "0ba52c11",
   "metadata": {
    "ExecuteTime": {
     "end_time": "2023-02-03T11:07:29.938825Z",
     "start_time": "2023-02-03T11:07:29.034822Z"
    }
   },
   "outputs": [
    {
     "data": {
      "text/plain": [
       "1    1011\n",
       "0     946\n",
       "2     808\n",
       "4     699\n",
       "3     535\n",
       "Name: clustersid, dtype: int64"
      ]
     },
     "execution_count": 17,
     "metadata": {},
     "output_type": "execute_result"
    }
   ],
   "source": [
    "y  = pd.DataFrame(H_clusters.fit_predict(scaler1_df), columns=['clustersid'])\n",
    "y['clustersid'].value_counts()"
   ]
  },
  {
   "cell_type": "code",
   "execution_count": 18,
   "id": "0d657baa",
   "metadata": {
    "ExecuteTime": {
     "end_time": "2023-02-03T11:07:29.962615Z",
     "start_time": "2023-02-03T11:07:29.942686Z"
    }
   },
   "outputs": [],
   "source": [
    "# Adding clusters to dataset\n",
    "\n",
    "# 1.cluster id with scaler_1 i.e. minmaxscaler\n",
    "\n",
    "df['clustersid_s1'] = H_clusters.labels_\n",
    "df\n",
    "\n",
    "df1['clustersid_s1'] = H_clusters.labels_"
   ]
  },
  {
   "cell_type": "code",
   "execution_count": 19,
   "id": "c7df8430",
   "metadata": {
    "ExecuteTime": {
     "end_time": "2023-02-03T11:07:30.354175Z",
     "start_time": "2023-02-03T11:07:29.962615Z"
    }
   },
   "outputs": [
    {
     "data": {
      "text/plain": [
       "Text(0, 0.5, 'ID counts')"
      ]
     },
     "execution_count": 19,
     "metadata": {},
     "output_type": "execute_result"
    },
    {
     "data": {
      "image/png": "[encoded data removed]",
      "text/plain": [
       "<Figure size 1600x1200 with 1 Axes>"
      ]
     },
     "metadata": {},
     "output_type": "display_data"
    }
   ],
   "source": [
    "# Plotting barplot using groupby method to get visualize of how many row number in each cluster\n",
    "\n",
    "plt.rcParams['figure.dpi'] = 250\n",
    "df.groupby(['clustersid_s1']).count()['ID'].plot(kind='bar')\n",
    "plt.title('Hierarchical Clustering')\n",
    "plt.xlabel('Clusters')\n",
    "plt.ylabel('ID counts')"
   ]
  },
  {
   "cell_type": "code",
   "execution_count": 20,
   "id": "403e1735",
   "metadata": {
    "ExecuteTime": {
     "end_time": "2023-02-03T11:07:30.413541Z",
     "start_time": "2023-02-03T11:07:30.356724Z"
    }
   },
   "outputs": [
    {
     "data": {
      "text/html": [
       "<div>\n",
       "<style scoped>\n",
       "    .dataframe tbody tr th:only-of-type {\n",
       "        vertical-align: middle;\n",
       "    }\n",
       "\n",
       "    .dataframe tbody tr th {\n",
       "        vertical-align: top;\n",
       "    }\n",
       "\n",
       "    .dataframe thead tr th {\n",
       "        text-align: left;\n",
       "    }\n",
       "</style>\n",
       "<table border=\"1\" class=\"dataframe\">\n",
       "  <thead>\n",
       "    <tr>\n",
       "      <th></th>\n",
       "      <th>clustersid_s1</th>\n",
       "      <th>Balance</th>\n",
       "      <th>Qual_miles</th>\n",
       "      <th>cc1_miles</th>\n",
       "      <th>cc2_miles</th>\n",
       "      <th>cc3_miles</th>\n",
       "      <th>Bonus_miles</th>\n",
       "      <th>Bonus_trans</th>\n",
       "      <th>Flight_miles_12mo</th>\n",
       "      <th>Flight_trans_12</th>\n",
       "      <th>Days_since_enroll</th>\n",
       "      <th>Award</th>\n",
       "    </tr>\n",
       "    <tr>\n",
       "      <th></th>\n",
       "      <th></th>\n",
       "      <th>mean</th>\n",
       "      <th>mean</th>\n",
       "      <th>mean</th>\n",
       "      <th>mean</th>\n",
       "      <th>mean</th>\n",
       "      <th>mean</th>\n",
       "      <th>mean</th>\n",
       "      <th>mean</th>\n",
       "      <th>mean</th>\n",
       "      <th>mean</th>\n",
       "      <th>mean</th>\n",
       "    </tr>\n",
       "  </thead>\n",
       "  <tbody>\n",
       "    <tr>\n",
       "      <th>0</th>\n",
       "      <td>0</td>\n",
       "      <td>79848.233615</td>\n",
       "      <td>285.097252</td>\n",
       "      <td>1.699789</td>\n",
       "      <td>1.024313</td>\n",
       "      <td>1.000000</td>\n",
       "      <td>12079.774841</td>\n",
       "      <td>12.133192</td>\n",
       "      <td>781.939746</td>\n",
       "      <td>2.369979</td>\n",
       "      <td>4372.173362</td>\n",
       "      <td>1.0</td>\n",
       "    </tr>\n",
       "    <tr>\n",
       "      <th>1</th>\n",
       "      <td>1</td>\n",
       "      <td>43313.653808</td>\n",
       "      <td>21.506429</td>\n",
       "      <td>1.000000</td>\n",
       "      <td>1.033630</td>\n",
       "      <td>1.000989</td>\n",
       "      <td>2562.614243</td>\n",
       "      <td>5.474777</td>\n",
       "      <td>169.510386</td>\n",
       "      <td>0.523244</td>\n",
       "      <td>4940.680514</td>\n",
       "      <td>0.0</td>\n",
       "    </tr>\n",
       "    <tr>\n",
       "      <th>2</th>\n",
       "      <td>2</td>\n",
       "      <td>106221.111386</td>\n",
       "      <td>161.262376</td>\n",
       "      <td>3.198020</td>\n",
       "      <td>1.001238</td>\n",
       "      <td>1.025990</td>\n",
       "      <td>26458.257426</td>\n",
       "      <td>16.363861</td>\n",
       "      <td>198.733911</td>\n",
       "      <td>0.558168</td>\n",
       "      <td>4367.250000</td>\n",
       "      <td>0.0</td>\n",
       "    </tr>\n",
       "    <tr>\n",
       "      <th>3</th>\n",
       "      <td>3</td>\n",
       "      <td>127475.028037</td>\n",
       "      <td>160.801869</td>\n",
       "      <td>4.362617</td>\n",
       "      <td>1.000000</td>\n",
       "      <td>1.050467</td>\n",
       "      <td>58656.919626</td>\n",
       "      <td>22.235514</td>\n",
       "      <td>991.110280</td>\n",
       "      <td>3.005607</td>\n",
       "      <td>5072.226168</td>\n",
       "      <td>1.0</td>\n",
       "    </tr>\n",
       "    <tr>\n",
       "      <th>4</th>\n",
       "      <td>4</td>\n",
       "      <td>30013.416309</td>\n",
       "      <td>98.054363</td>\n",
       "      <td>1.000000</td>\n",
       "      <td>1.000000</td>\n",
       "      <td>1.000000</td>\n",
       "      <td>2552.569385</td>\n",
       "      <td>6.101574</td>\n",
       "      <td>340.274678</td>\n",
       "      <td>0.948498</td>\n",
       "      <td>1568.864092</td>\n",
       "      <td>0.0</td>\n",
       "    </tr>\n",
       "  </tbody>\n",
       "</table>\n",
       "</div>"
      ],
      "text/plain": [
       "  clustersid_s1        Balance  Qual_miles cc1_miles cc2_miles cc3_miles  \\\n",
       "                          mean        mean      mean      mean      mean   \n",
       "0             0   79848.233615  285.097252  1.699789  1.024313  1.000000   \n",
       "1             1   43313.653808   21.506429  1.000000  1.033630  1.000989   \n",
       "2             2  106221.111386  161.262376  3.198020  1.001238  1.025990   \n",
       "3             3  127475.028037  160.801869  4.362617  1.000000  1.050467   \n",
       "4             4   30013.416309   98.054363  1.000000  1.000000  1.000000   \n",
       "\n",
       "    Bonus_miles Bonus_trans Flight_miles_12mo Flight_trans_12  \\\n",
       "           mean        mean              mean            mean   \n",
       "0  12079.774841   12.133192        781.939746        2.369979   \n",
       "1   2562.614243    5.474777        169.510386        0.523244   \n",
       "2  26458.257426   16.363861        198.733911        0.558168   \n",
       "3  58656.919626   22.235514        991.110280        3.005607   \n",
       "4   2552.569385    6.101574        340.274678        0.948498   \n",
       "\n",
       "  Days_since_enroll Award  \n",
       "               mean  mean  \n",
       "0       4372.173362   1.0  \n",
       "1       4940.680514   0.0  \n",
       "2       4367.250000   0.0  \n",
       "3       5072.226168   1.0  \n",
       "4       1568.864092   0.0  "
      ]
     },
     "execution_count": 20,
     "metadata": {},
     "output_type": "execute_result"
    }
   ],
   "source": [
    "df1.groupby('clustersid_s1').agg(['mean']).reset_index()"
   ]
  },
  {
   "cell_type": "code",
   "execution_count": 21,
   "id": "e839590e",
   "metadata": {
    "ExecuteTime": {
     "end_time": "2023-02-03T11:07:30.429556Z",
     "start_time": "2023-02-03T11:07:30.413541Z"
    }
   },
   "outputs": [],
   "source": [
    "# silhouette score of AgglomerativeClustering\n",
    "\n",
    "from sklearn.metrics import silhouette_score"
   ]
  },
  {
   "cell_type": "code",
   "execution_count": 22,
   "id": "c1f27162",
   "metadata": {
    "ExecuteTime": {
     "end_time": "2023-02-03T11:07:30.949708Z",
     "start_time": "2023-02-03T11:07:30.429556Z"
    }
   },
   "outputs": [
    {
     "data": {
      "text/plain": [
       "0.3762586351398372"
      ]
     },
     "execution_count": 22,
     "metadata": {},
     "output_type": "execute_result"
    }
   ],
   "source": [
    "sil_score = silhouette_score(scaler1_df, H_clusters.labels_)\n",
    "sil_score"
   ]
  },
  {
   "cell_type": "code",
   "execution_count": 23,
   "id": "defa0fff",
   "metadata": {
    "ExecuteTime": {
     "end_time": "2023-02-03T11:07:31.953497Z",
     "start_time": "2023-02-03T11:07:30.952837Z"
    }
   },
   "outputs": [
    {
     "data": {
      "text/plain": [
       "1    2446\n",
       "0    1362\n",
       "2     130\n",
       "3      43\n",
       "4      18\n",
       "Name: clustersid, dtype: int64"
      ]
     },
     "execution_count": 23,
     "metadata": {},
     "output_type": "execute_result"
    }
   ],
   "source": [
    "# Using data normalized by StandardScaler\n",
    "\n",
    "y = pd.DataFrame(H_clusters.fit_predict(scaler2_df),columns = ['clustersid'])\n",
    "y['clustersid'].value_counts()"
   ]
  },
  {
   "cell_type": "code",
   "execution_count": 24,
   "id": "90142372",
   "metadata": {
    "ExecuteTime": {
     "end_time": "2023-02-03T11:07:31.973357Z",
     "start_time": "2023-02-03T11:07:31.954541Z"
    }
   },
   "outputs": [],
   "source": [
    "# Adding clusters to dataset\n",
    "\n",
    "# 1.cluster id with scaler_1 i.e. StandardScaler\n",
    "df['clustersid_s2'] = H_clusters.labels_\n",
    "df1['clustersid_s2'] = H_clusters.labels_"
   ]
  },
  {
   "cell_type": "code",
   "execution_count": 25,
   "id": "bc4c6487",
   "metadata": {
    "ExecuteTime": {
     "end_time": "2023-02-03T11:07:32.363206Z",
     "start_time": "2023-02-03T11:07:31.974914Z"
    }
   },
   "outputs": [
    {
     "data": {
      "text/plain": [
       "Text(0, 0.5, 'ID counts')"
      ]
     },
     "execution_count": 25,
     "metadata": {},
     "output_type": "execute_result"
    },
    {
     "data": {
      "image/png": "[encoded data removed]",
      "text/plain": [
       "<Figure size 1600x1200 with 1 Axes>"
      ]
     },
     "metadata": {},
     "output_type": "display_data"
    }
   ],
   "source": [
    "# Plotting barplot using groupby method to get visualize of how many row number in each cluster\n",
    "\n",
    "df.groupby(['clustersid_s2']).count()['ID'].plot(kind='bar')\n",
    "plt.title('Hierarchical Clustering')\n",
    "plt.xlabel('Clusters')\n",
    "plt.ylabel('ID counts')"
   ]
  },
  {
   "cell_type": "code",
   "execution_count": 26,
   "id": "f2694c01",
   "metadata": {
    "ExecuteTime": {
     "end_time": "2023-02-03T11:07:32.426304Z",
     "start_time": "2023-02-03T11:07:32.363206Z"
    }
   },
   "outputs": [
    {
     "data": {
      "text/html": [
       "<div>\n",
       "<style scoped>\n",
       "    .dataframe tbody tr th:only-of-type {\n",
       "        vertical-align: middle;\n",
       "    }\n",
       "\n",
       "    .dataframe tbody tr th {\n",
       "        vertical-align: top;\n",
       "    }\n",
       "\n",
       "    .dataframe thead tr th {\n",
       "        text-align: left;\n",
       "    }\n",
       "</style>\n",
       "<table border=\"1\" class=\"dataframe\">\n",
       "  <thead>\n",
       "    <tr>\n",
       "      <th></th>\n",
       "      <th>clustersid_s1</th>\n",
       "      <th>Balance</th>\n",
       "      <th>Qual_miles</th>\n",
       "      <th>cc1_miles</th>\n",
       "      <th>cc2_miles</th>\n",
       "      <th>cc3_miles</th>\n",
       "      <th>Bonus_miles</th>\n",
       "      <th>Bonus_trans</th>\n",
       "      <th>Flight_miles_12mo</th>\n",
       "      <th>Flight_trans_12</th>\n",
       "      <th>Days_since_enroll</th>\n",
       "      <th>Award</th>\n",
       "      <th>clustersid_s2</th>\n",
       "    </tr>\n",
       "    <tr>\n",
       "      <th></th>\n",
       "      <th></th>\n",
       "      <th>mean</th>\n",
       "      <th>mean</th>\n",
       "      <th>mean</th>\n",
       "      <th>mean</th>\n",
       "      <th>mean</th>\n",
       "      <th>mean</th>\n",
       "      <th>mean</th>\n",
       "      <th>mean</th>\n",
       "      <th>mean</th>\n",
       "      <th>mean</th>\n",
       "      <th>mean</th>\n",
       "      <th>mean</th>\n",
       "    </tr>\n",
       "  </thead>\n",
       "  <tbody>\n",
       "    <tr>\n",
       "      <th>0</th>\n",
       "      <td>0</td>\n",
       "      <td>79848.233615</td>\n",
       "      <td>285.097252</td>\n",
       "      <td>1.699789</td>\n",
       "      <td>1.024313</td>\n",
       "      <td>1.000000</td>\n",
       "      <td>12079.774841</td>\n",
       "      <td>12.133192</td>\n",
       "      <td>781.939746</td>\n",
       "      <td>2.369979</td>\n",
       "      <td>4372.173362</td>\n",
       "      <td>1.0</td>\n",
       "      <td>0.627907</td>\n",
       "    </tr>\n",
       "    <tr>\n",
       "      <th>1</th>\n",
       "      <td>1</td>\n",
       "      <td>43313.653808</td>\n",
       "      <td>21.506429</td>\n",
       "      <td>1.000000</td>\n",
       "      <td>1.033630</td>\n",
       "      <td>1.000989</td>\n",
       "      <td>2562.614243</td>\n",
       "      <td>5.474777</td>\n",
       "      <td>169.510386</td>\n",
       "      <td>0.523244</td>\n",
       "      <td>4940.680514</td>\n",
       "      <td>0.0</td>\n",
       "      <td>1.044510</td>\n",
       "    </tr>\n",
       "    <tr>\n",
       "      <th>2</th>\n",
       "      <td>2</td>\n",
       "      <td>106221.111386</td>\n",
       "      <td>161.262376</td>\n",
       "      <td>3.198020</td>\n",
       "      <td>1.001238</td>\n",
       "      <td>1.025990</td>\n",
       "      <td>26458.257426</td>\n",
       "      <td>16.363861</td>\n",
       "      <td>198.733911</td>\n",
       "      <td>0.558168</td>\n",
       "      <td>4367.250000</td>\n",
       "      <td>0.0</td>\n",
       "      <td>0.507426</td>\n",
       "    </tr>\n",
       "    <tr>\n",
       "      <th>3</th>\n",
       "      <td>3</td>\n",
       "      <td>127475.028037</td>\n",
       "      <td>160.801869</td>\n",
       "      <td>4.362617</td>\n",
       "      <td>1.000000</td>\n",
       "      <td>1.050467</td>\n",
       "      <td>58656.919626</td>\n",
       "      <td>22.235514</td>\n",
       "      <td>991.110280</td>\n",
       "      <td>3.005607</td>\n",
       "      <td>5072.226168</td>\n",
       "      <td>1.0</td>\n",
       "      <td>0.261682</td>\n",
       "    </tr>\n",
       "    <tr>\n",
       "      <th>4</th>\n",
       "      <td>4</td>\n",
       "      <td>30013.416309</td>\n",
       "      <td>98.054363</td>\n",
       "      <td>1.000000</td>\n",
       "      <td>1.000000</td>\n",
       "      <td>1.000000</td>\n",
       "      <td>2552.569385</td>\n",
       "      <td>6.101574</td>\n",
       "      <td>340.274678</td>\n",
       "      <td>0.948498</td>\n",
       "      <td>1568.864092</td>\n",
       "      <td>0.0</td>\n",
       "      <td>1.011445</td>\n",
       "    </tr>\n",
       "  </tbody>\n",
       "</table>\n",
       "</div>"
      ],
      "text/plain": [
       "  clustersid_s1        Balance  Qual_miles cc1_miles cc2_miles cc3_miles  \\\n",
       "                          mean        mean      mean      mean      mean   \n",
       "0             0   79848.233615  285.097252  1.699789  1.024313  1.000000   \n",
       "1             1   43313.653808   21.506429  1.000000  1.033630  1.000989   \n",
       "2             2  106221.111386  161.262376  3.198020  1.001238  1.025990   \n",
       "3             3  127475.028037  160.801869  4.362617  1.000000  1.050467   \n",
       "4             4   30013.416309   98.054363  1.000000  1.000000  1.000000   \n",
       "\n",
       "    Bonus_miles Bonus_trans Flight_miles_12mo Flight_trans_12  \\\n",
       "           mean        mean              mean            mean   \n",
       "0  12079.774841   12.133192        781.939746        2.369979   \n",
       "1   2562.614243    5.474777        169.510386        0.523244   \n",
       "2  26458.257426   16.363861        198.733911        0.558168   \n",
       "3  58656.919626   22.235514        991.110280        3.005607   \n",
       "4   2552.569385    6.101574        340.274678        0.948498   \n",
       "\n",
       "  Days_since_enroll Award clustersid_s2  \n",
       "               mean  mean          mean  \n",
       "0       4372.173362   1.0      0.627907  \n",
       "1       4940.680514   0.0      1.044510  \n",
       "2       4367.250000   0.0      0.507426  \n",
       "3       5072.226168   1.0      0.261682  \n",
       "4       1568.864092   0.0      1.011445  "
      ]
     },
     "execution_count": 26,
     "metadata": {},
     "output_type": "execute_result"
    }
   ],
   "source": [
    "df1.groupby('clustersid_s1').agg(['mean']).reset_index()"
   ]
  },
  {
   "cell_type": "code",
   "execution_count": 27,
   "id": "7e42c5ae",
   "metadata": {
    "ExecuteTime": {
     "end_time": "2023-02-03T11:07:32.974412Z",
     "start_time": "2023-02-03T11:07:32.426304Z"
    }
   },
   "outputs": [
    {
     "data": {
      "text/plain": [
       "0.3098805307874414"
      ]
     },
     "execution_count": 27,
     "metadata": {},
     "output_type": "execute_result"
    }
   ],
   "source": [
    "sil_score = silhouette_score(scaler2_df, H_clusters.labels_)\n",
    "sil_score"
   ]
  },
  {
   "cell_type": "markdown",
   "id": "d7b5a403",
   "metadata": {},
   "source": [
    "# KMeans Clustering"
   ]
  },
  {
   "cell_type": "code",
   "execution_count": 28,
   "id": "e63b17ea",
   "metadata": {
    "ExecuteTime": {
     "end_time": "2023-02-03T11:07:33.002041Z",
     "start_time": "2023-02-03T11:07:32.982599Z"
    }
   },
   "outputs": [],
   "source": [
    "# Import necessary Library\n",
    "\n",
    "from sklearn.cluster import KMeans"
   ]
  },
  {
   "cell_type": "code",
   "execution_count": 29,
   "id": "43e0fe7a",
   "metadata": {
    "ExecuteTime": {
     "end_time": "2023-02-03T11:07:33.015089Z",
     "start_time": "2023-02-03T11:07:33.006884Z"
    }
   },
   "outputs": [],
   "source": [
    "scaler1 = MinMaxScaler()\n",
    "scaler2 = StandardScaler()"
   ]
  },
  {
   "cell_type": "code",
   "execution_count": 30,
   "id": "f2f529b5",
   "metadata": {
    "ExecuteTime": {
     "end_time": "2023-02-03T11:07:33.056311Z",
     "start_time": "2023-02-03T11:07:33.019533Z"
    }
   },
   "outputs": [
    {
     "name": "stdout",
     "output_type": "stream",
     "text": [
      "[[0.01650773 0.         0.         ... 0.         0.25       0.25      ]\n",
      " [0.01128788 0.         0.         ... 0.         0.25       0.25      ]\n",
      " [0.02425685 0.         0.         ... 0.         0.25       0.25      ]\n",
      " ...\n",
      " [0.0431695  0.         0.5        ... 1.         0.         0.        ]\n",
      " [0.03220189 0.         0.         ... 0.         1.         0.25      ]\n",
      " [0.00176908 0.         0.         ... 0.         1.         0.25      ]]\n",
      "\n",
      "\n",
      "[[-4.51140783e-01 -1.86298687e-01 -7.69578406e-01 ... -7.66919299e-01\n",
      "  -5.39219215e-01  4.41786398e-01]\n",
      " [-5.39456874e-01 -1.86298687e-01 -7.69578406e-01 ... -7.66919299e-01\n",
      "  -5.39219215e-01  4.41786398e-01]\n",
      " [-3.20031232e-01 -1.86298687e-01 -7.69578406e-01 ... -7.66919299e-01\n",
      "  -5.39219215e-01  4.41786398e-01]\n",
      " ...\n",
      " [-4.29480975e-05 -1.86298687e-01  6.83121167e-01 ...  1.30391816e+00\n",
      "  -1.25111675e+00 -1.17607423e+00]\n",
      " [-1.85606976e-01 -1.86298687e-01 -7.69578406e-01 ... -7.66919299e-01\n",
      "   1.59647340e+00  4.41786398e-01]\n",
      " [-7.00507951e-01 -1.86298687e-01 -7.69578406e-01 ... -7.66919299e-01\n",
      "   1.59647340e+00  4.41786398e-01]]\n"
     ]
    }
   ],
   "source": [
    "# Normalizing Dataset\n",
    "\n",
    "scaler1_df = scaler1.fit_transform(df1)\n",
    "print(scaler1_df)\n",
    "\n",
    "print('\\n')\n",
    "\n",
    "scaler2_df = scaler2.fit_transform(df1)\n",
    "print(scaler2_df)"
   ]
  },
  {
   "cell_type": "code",
   "execution_count": 31,
   "id": "e8d234a3",
   "metadata": {
    "ExecuteTime": {
     "end_time": "2023-02-03T11:07:35.784963Z",
     "start_time": "2023-02-03T11:07:33.056311Z"
    }
   },
   "outputs": [
    {
     "data": {
      "image/png": "[encoded data removed]",
      "text/plain": [
       "<Figure size 1600x1200 with 1 Axes>"
      ]
     },
     "metadata": {},
     "output_type": "display_data"
    }
   ],
   "source": [
    "wcss = []\n",
    "for i in range(1, 11):\n",
    "    kmeans = KMeans(n_clusters = i, random_state=0)\n",
    "    kmeans.fit(scaler1_df)\n",
    "    wcss.append(kmeans.inertia_)\n",
    "    \n",
    "plt.plot(range(1,11), wcss)\n",
    "plt.title('Elbow Method')\n",
    "plt.xlabel('Number of clusters')\n",
    "plt.ylabel('WCSS')\n",
    "plt.grid()"
   ]
  },
  {
   "cell_type": "code",
   "execution_count": 32,
   "id": "4463f878",
   "metadata": {
    "ExecuteTime": {
     "end_time": "2023-02-03T11:07:38.970109Z",
     "start_time": "2023-02-03T11:07:35.787653Z"
    }
   },
   "outputs": [
    {
     "data": {
      "image/png": "[encoded data removed]",
      "text/plain": [
       "<Figure size 1600x1200 with 1 Axes>"
      ]
     },
     "metadata": {},
     "output_type": "display_data"
    }
   ],
   "source": [
    "wcss = []\n",
    "for i in range(1, 11):\n",
    "    kmeans = KMeans(n_clusters = i, random_state=0)\n",
    "    kmeans.fit(scaler2_df)\n",
    "    wcss.append(kmeans.inertia_)\n",
    "    \n",
    "plt.plot(range(1,11), wcss)\n",
    "plt.title('Elbow Method')\n",
    "plt.xlabel('Number of clusters')\n",
    "plt.ylabel('WCSS')\n",
    "plt.grid()"
   ]
  },
  {
   "cell_type": "markdown",
   "id": "eb62626f",
   "metadata": {},
   "source": [
    "From above two Scree plots, optimum number of clusters can be selected equal to 5"
   ]
  },
  {
   "cell_type": "code",
   "execution_count": 33,
   "id": "33469974",
   "metadata": {
    "ExecuteTime": {
     "end_time": "2023-02-03T11:07:39.614111Z",
     "start_time": "2023-02-03T11:07:38.970109Z"
    }
   },
   "outputs": [
    {
     "name": "stdout",
     "output_type": "stream",
     "text": [
      "Silhouette Score for data normalized by MinMaxScaler:  0.5578853150250931\n"
     ]
    }
   ],
   "source": [
    "#Build Cluster algorithm\n",
    "\n",
    "# Using data normalized by MinMaxScaler\n",
    "clusters_new1 = KMeans(5, random_state = 42)\n",
    "clusters_new1.fit(scaler1_df)\n",
    "\n",
    "sil_score = silhouette_score(scaler1_df, clusters_new1.labels_)\n",
    "print('Silhouette Score for data normalized by MinMaxScaler: ',sil_score)"
   ]
  },
  {
   "cell_type": "code",
   "execution_count": 34,
   "id": "79feb369",
   "metadata": {
    "ExecuteTime": {
     "end_time": "2023-02-03T11:07:40.336463Z",
     "start_time": "2023-02-03T11:07:39.614361Z"
    }
   },
   "outputs": [
    {
     "name": "stdout",
     "output_type": "stream",
     "text": [
      "Silhouette Score for data normalized by StandardScaler:  0.3294874511326423\n"
     ]
    }
   ],
   "source": [
    "# Using data normalized by StandardScaler\n",
    "\n",
    "clusters_new2 = KMeans(5, random_state = 42)\n",
    "clusters_new2.fit(scaler2_df)\n",
    "\n",
    "sil_score = silhouette_score(scaler2_df, clusters_new2.labels_)\n",
    "print('Silhouette Score for data normalized by StandardScaler: ',sil_score)"
   ]
  },
  {
   "cell_type": "code",
   "execution_count": 35,
   "id": "3850cef2",
   "metadata": {
    "ExecuteTime": {
     "end_time": "2023-02-03T11:07:40.361595Z",
     "start_time": "2023-02-03T11:07:40.336463Z"
    }
   },
   "outputs": [],
   "source": [
    "#Assign clusters to the data set\n",
    "\n",
    "df['clusterid_Kmeans'] = clusters_new1.labels_\n",
    "df1['clusterid_Kmeans'] = clusters_new1.labels_"
   ]
  },
  {
   "cell_type": "code",
   "execution_count": 36,
   "id": "67d43ea0",
   "metadata": {
    "ExecuteTime": {
     "end_time": "2023-02-03T11:07:40.502637Z",
     "start_time": "2023-02-03T11:07:40.361595Z"
    }
   },
   "outputs": [
    {
     "data": {
      "text/plain": [
       "1    1194\n",
       "0     948\n",
       "3     699\n",
       "4     625\n",
       "2     533\n",
       "Name: clusterid_Kmeans, dtype: int64"
      ]
     },
     "execution_count": 36,
     "metadata": {},
     "output_type": "execute_result"
    }
   ],
   "source": [
    "y = pd.DataFrame(clusters_new1.fit_predict(scaler1_df),columns = ['clusterid_Kmeans'])\n",
    "y['clusterid_Kmeans'].value_counts()"
   ]
  },
  {
   "cell_type": "code",
   "execution_count": 37,
   "id": "c36d0dac",
   "metadata": {
    "ExecuteTime": {
     "end_time": "2023-02-03T11:07:40.927298Z",
     "start_time": "2023-02-03T11:07:40.506812Z"
    }
   },
   "outputs": [
    {
     "data": {
      "text/plain": [
       "Text(0, 0.5, 'ID counts')"
      ]
     },
     "execution_count": 37,
     "metadata": {},
     "output_type": "execute_result"
    },
    {
     "data": {
      "image/png": "[encoded data removed]",
      "text/plain": [
       "<Figure size 1600x1200 with 1 Axes>"
      ]
     },
     "metadata": {},
     "output_type": "display_data"
    }
   ],
   "source": [
    "# Plotting barplot using groupby method to get visualize of how many row number in each cluster\n",
    "\n",
    "df.groupby(['clusterid_Kmeans']).count()['ID'].plot(kind='bar')\n",
    "plt.title('Hierarchical Clustering')\n",
    "plt.xlabel('Clusters')\n",
    "plt.ylabel('ID counts')"
   ]
  },
  {
   "cell_type": "code",
   "execution_count": 38,
   "id": "6cc73aed",
   "metadata": {
    "ExecuteTime": {
     "end_time": "2023-02-03T11:07:40.996266Z",
     "start_time": "2023-02-03T11:07:40.927298Z"
    }
   },
   "outputs": [
    {
     "data": {
      "text/html": [
       "<div>\n",
       "<style scoped>\n",
       "    .dataframe tbody tr th:only-of-type {\n",
       "        vertical-align: middle;\n",
       "    }\n",
       "\n",
       "    .dataframe tbody tr th {\n",
       "        vertical-align: top;\n",
       "    }\n",
       "\n",
       "    .dataframe thead tr th {\n",
       "        text-align: left;\n",
       "    }\n",
       "</style>\n",
       "<table border=\"1\" class=\"dataframe\">\n",
       "  <thead>\n",
       "    <tr>\n",
       "      <th></th>\n",
       "      <th>clusterid_Kmeans</th>\n",
       "      <th>Balance</th>\n",
       "      <th>Qual_miles</th>\n",
       "      <th>cc1_miles</th>\n",
       "      <th>cc2_miles</th>\n",
       "      <th>cc3_miles</th>\n",
       "      <th>Bonus_miles</th>\n",
       "      <th>Bonus_trans</th>\n",
       "      <th>Flight_miles_12mo</th>\n",
       "      <th>Flight_trans_12</th>\n",
       "      <th>Days_since_enroll</th>\n",
       "      <th>Award</th>\n",
       "      <th>clustersid_s1</th>\n",
       "      <th>clustersid_s2</th>\n",
       "    </tr>\n",
       "    <tr>\n",
       "      <th></th>\n",
       "      <th></th>\n",
       "      <th>mean</th>\n",
       "      <th>mean</th>\n",
       "      <th>mean</th>\n",
       "      <th>mean</th>\n",
       "      <th>mean</th>\n",
       "      <th>mean</th>\n",
       "      <th>mean</th>\n",
       "      <th>mean</th>\n",
       "      <th>mean</th>\n",
       "      <th>mean</th>\n",
       "      <th>mean</th>\n",
       "      <th>mean</th>\n",
       "      <th>mean</th>\n",
       "    </tr>\n",
       "  </thead>\n",
       "  <tbody>\n",
       "    <tr>\n",
       "      <th>0</th>\n",
       "      <td>0</td>\n",
       "      <td>80071.828059</td>\n",
       "      <td>276.433544</td>\n",
       "      <td>1.694093</td>\n",
       "      <td>1.024262</td>\n",
       "      <td>1.002110</td>\n",
       "      <td>12186.982068</td>\n",
       "      <td>12.262658</td>\n",
       "      <td>827.800633</td>\n",
       "      <td>2.483122</td>\n",
       "      <td>4367.631857</td>\n",
       "      <td>1.0</td>\n",
       "      <td>0.009494</td>\n",
       "      <td>0.635021</td>\n",
       "    </tr>\n",
       "    <tr>\n",
       "      <th>1</th>\n",
       "      <td>1</td>\n",
       "      <td>46926.743719</td>\n",
       "      <td>77.376884</td>\n",
       "      <td>1.144054</td>\n",
       "      <td>1.028476</td>\n",
       "      <td>1.006700</td>\n",
       "      <td>3747.433836</td>\n",
       "      <td>6.634003</td>\n",
       "      <td>159.219430</td>\n",
       "      <td>0.485762</td>\n",
       "      <td>4834.253769</td>\n",
       "      <td>0.0</td>\n",
       "      <td>1.153266</td>\n",
       "      <td>1.032663</td>\n",
       "    </tr>\n",
       "    <tr>\n",
       "      <th>2</th>\n",
       "      <td>2</td>\n",
       "      <td>127256.052533</td>\n",
       "      <td>175.744841</td>\n",
       "      <td>4.382739</td>\n",
       "      <td>1.000000</td>\n",
       "      <td>1.046904</td>\n",
       "      <td>58641.013133</td>\n",
       "      <td>22.043152</td>\n",
       "      <td>910.326454</td>\n",
       "      <td>2.806754</td>\n",
       "      <td>5082.930582</td>\n",
       "      <td>1.0</td>\n",
       "      <td>2.994371</td>\n",
       "      <td>0.247655</td>\n",
       "    </tr>\n",
       "    <tr>\n",
       "      <th>3</th>\n",
       "      <td>3</td>\n",
       "      <td>30013.416309</td>\n",
       "      <td>98.054363</td>\n",
       "      <td>1.000000</td>\n",
       "      <td>1.000000</td>\n",
       "      <td>1.000000</td>\n",
       "      <td>2552.569385</td>\n",
       "      <td>6.101574</td>\n",
       "      <td>340.274678</td>\n",
       "      <td>0.948498</td>\n",
       "      <td>1568.864092</td>\n",
       "      <td>0.0</td>\n",
       "      <td>4.000000</td>\n",
       "      <td>1.011445</td>\n",
       "    </tr>\n",
       "    <tr>\n",
       "      <th>4</th>\n",
       "      <td>4</td>\n",
       "      <td>117737.968000</td>\n",
       "      <td>95.448000</td>\n",
       "      <td>3.566400</td>\n",
       "      <td>1.001600</td>\n",
       "      <td>1.022400</td>\n",
       "      <td>31191.422400</td>\n",
       "      <td>17.337600</td>\n",
       "      <td>226.950400</td>\n",
       "      <td>0.640000</td>\n",
       "      <td>4402.667200</td>\n",
       "      <td>0.0</td>\n",
       "      <td>2.000000</td>\n",
       "      <td>0.372800</td>\n",
       "    </tr>\n",
       "  </tbody>\n",
       "</table>\n",
       "</div>"
      ],
      "text/plain": [
       "  clusterid_Kmeans        Balance  Qual_miles cc1_miles cc2_miles cc3_miles  \\\n",
       "                             mean        mean      mean      mean      mean   \n",
       "0                0   80071.828059  276.433544  1.694093  1.024262  1.002110   \n",
       "1                1   46926.743719   77.376884  1.144054  1.028476  1.006700   \n",
       "2                2  127256.052533  175.744841  4.382739  1.000000  1.046904   \n",
       "3                3   30013.416309   98.054363  1.000000  1.000000  1.000000   \n",
       "4                4  117737.968000   95.448000  3.566400  1.001600  1.022400   \n",
       "\n",
       "    Bonus_miles Bonus_trans Flight_miles_12mo Flight_trans_12  \\\n",
       "           mean        mean              mean            mean   \n",
       "0  12186.982068   12.262658        827.800633        2.483122   \n",
       "1   3747.433836    6.634003        159.219430        0.485762   \n",
       "2  58641.013133   22.043152        910.326454        2.806754   \n",
       "3   2552.569385    6.101574        340.274678        0.948498   \n",
       "4  31191.422400   17.337600        226.950400        0.640000   \n",
       "\n",
       "  Days_since_enroll Award clustersid_s1 clustersid_s2  \n",
       "               mean  mean          mean          mean  \n",
       "0       4367.631857   1.0      0.009494      0.635021  \n",
       "1       4834.253769   0.0      1.153266      1.032663  \n",
       "2       5082.930582   1.0      2.994371      0.247655  \n",
       "3       1568.864092   0.0      4.000000      1.011445  \n",
       "4       4402.667200   0.0      2.000000      0.372800  "
      ]
     },
     "execution_count": 38,
     "metadata": {},
     "output_type": "execute_result"
    }
   ],
   "source": [
    "df1.groupby('clusterid_Kmeans').agg(['mean']).reset_index()"
   ]
  },
  {
   "cell_type": "markdown",
   "id": "29f5e439",
   "metadata": {},
   "source": [
    "# DBSCAN"
   ]
  },
  {
   "cell_type": "code",
   "execution_count": 39,
   "id": "a2dfd724",
   "metadata": {
    "ExecuteTime": {
     "end_time": "2023-02-03T11:07:41.008954Z",
     "start_time": "2023-02-03T11:07:40.996266Z"
    }
   },
   "outputs": [],
   "source": [
    "# Import necessary library\n",
    "\n",
    "from sklearn.cluster import DBSCAN"
   ]
  },
  {
   "cell_type": "code",
   "execution_count": 40,
   "id": "69262bcb",
   "metadata": {
    "ExecuteTime": {
     "end_time": "2023-02-03T11:07:41.050320Z",
     "start_time": "2023-02-03T11:07:41.009453Z"
    }
   },
   "outputs": [
    {
     "name": "stdout",
     "output_type": "stream",
     "text": [
      "[[0.01650773 0.         0.         ... 0.25       0.25       0.25      ]\n",
      " [0.01128788 0.         0.         ... 0.25       0.25       0.25      ]\n",
      " [0.02425685 0.         0.         ... 0.25       0.25       0.25      ]\n",
      " ...\n",
      " [0.0431695  0.         0.5        ... 0.         0.         0.        ]\n",
      " [0.03220189 0.         0.         ... 1.         0.25       0.75      ]\n",
      " [0.00176908 0.         0.         ... 1.         0.25       0.75      ]]\n"
     ]
    }
   ],
   "source": [
    "# Normalizing data using MinMaxScaler\n",
    "\n",
    "scaler1_df = scaler1.fit_transform(df1)\n",
    "print(scaler1_df)"
   ]
  },
  {
   "cell_type": "code",
   "execution_count": 41,
   "id": "b94b356b",
   "metadata": {
    "ExecuteTime": {
     "end_time": "2023-02-03T11:07:42.853353Z",
     "start_time": "2023-02-03T11:07:41.056133Z"
    }
   },
   "outputs": [
    {
     "data": {
      "text/plain": [
       "DBSCAN(eps=1, min_samples=12)"
      ]
     },
     "execution_count": 41,
     "metadata": {},
     "output_type": "execute_result"
    }
   ],
   "source": [
    "# Using data normalized by MinMaxScaler\n",
    "\n",
    "dbscan = DBSCAN(eps = 1, min_samples = 12)\n",
    "dbscan.fit(scaler1_df)"
   ]
  },
  {
   "cell_type": "code",
   "execution_count": 42,
   "id": "91d4a8dc",
   "metadata": {
    "ExecuteTime": {
     "end_time": "2023-02-03T11:07:42.876808Z",
     "start_time": "2023-02-03T11:07:42.853353Z"
    }
   },
   "outputs": [
    {
     "data": {
      "text/plain": [
       "array([0, 0, 0, ..., 1, 0, 0], dtype=int64)"
      ]
     },
     "execution_count": 42,
     "metadata": {},
     "output_type": "execute_result"
    }
   ],
   "source": [
    "# Noisy samples are given the label -1.\n",
    "\n",
    "dbscan.labels_"
   ]
  },
  {
   "cell_type": "code",
   "execution_count": 43,
   "id": "dbfc8a45",
   "metadata": {
    "ExecuteTime": {
     "end_time": "2023-02-03T11:07:44.655967Z",
     "start_time": "2023-02-03T11:07:42.880044Z"
    }
   },
   "outputs": [
    {
     "data": {
      "text/plain": [
       " 0    2518\n",
       " 1    1479\n",
       "-1       2\n",
       "Name: clusterid_DBSCAN, dtype: int64"
      ]
     },
     "execution_count": 43,
     "metadata": {},
     "output_type": "execute_result"
    }
   ],
   "source": [
    "y = pd.DataFrame(dbscan.fit_predict(scaler1_df),columns = ['clusterid_DBSCAN'])\n",
    "y['clusterid_DBSCAN'].value_counts()"
   ]
  },
  {
   "cell_type": "code",
   "execution_count": 44,
   "id": "aa171059",
   "metadata": {
    "ExecuteTime": {
     "end_time": "2023-02-03T11:07:45.205140Z",
     "start_time": "2023-02-03T11:07:44.655967Z"
    }
   },
   "outputs": [
    {
     "data": {
      "text/plain": [
       "0.4351796533177913"
      ]
     },
     "execution_count": 44,
     "metadata": {},
     "output_type": "execute_result"
    }
   ],
   "source": [
    "sil_score = silhouette_score(scaler1_df, dbscan.labels_)\n",
    "sil_score"
   ]
  },
  {
   "cell_type": "code",
   "execution_count": 49,
   "id": "c4d65a6c",
   "metadata": {
    "ExecuteTime": {
     "end_time": "2023-02-03T11:12:38.127844Z",
     "start_time": "2023-02-03T11:12:34.955631Z"
    }
   },
   "outputs": [
    {
     "name": "stdout",
     "output_type": "stream",
     "text": [
      " 0    2514\n",
      " 2     946\n",
      " 1     531\n",
      "-1       8\n",
      "Name: clusterid_DBSCAN, dtype: int64\n"
     ]
    }
   ],
   "source": [
    "# for epsilon = 0.8\n",
    "\n",
    "dbscan1 = DBSCAN(eps = 0.8, min_samples = 12)\n",
    "dbscan1.fit(scaler1_df)\n",
    "\n",
    "y = pd.DataFrame(dbscan1.fit_predict(scaler1_df),columns = ['clusterid_DBSCAN'])\n",
    "print(y['clusterid_DBSCAN'].value_counts())"
   ]
  },
  {
   "cell_type": "code",
   "execution_count": 50,
   "id": "489db30f",
   "metadata": {
    "ExecuteTime": {
     "end_time": "2023-02-03T11:12:48.475550Z",
     "start_time": "2023-02-03T11:12:47.944602Z"
    }
   },
   "outputs": [
    {
     "name": "stdout",
     "output_type": "stream",
     "text": [
      "silhouette score:  0.46555408376042645\n"
     ]
    }
   ],
   "source": [
    "sil_score = silhouette_score(scaler1_df, dbscan1.labels_)\n",
    "print('silhouette score: ',sil_score)"
   ]
  },
  {
   "cell_type": "code",
   "execution_count": 51,
   "id": "d04f4dc0",
   "metadata": {
    "ExecuteTime": {
     "end_time": "2023-02-03T11:13:31.424701Z",
     "start_time": "2023-02-03T11:13:28.603452Z"
    }
   },
   "outputs": [
    {
     "name": "stdout",
     "output_type": "stream",
     "text": [
      " 0    1191\n",
      " 3     942\n",
      " 4     699\n",
      " 2     618\n",
      " 1     523\n",
      "-1      26\n",
      "Name: clusterid_DBSCAN, dtype: int64\n"
     ]
    }
   ],
   "source": [
    "# for epsilon = 0.6\n",
    "\n",
    "dbscan2 = DBSCAN(eps = 0.6, min_samples = 12)\n",
    "dbscan2.fit(scaler1_df)\n",
    "\n",
    "y = pd.DataFrame(dbscan2.fit_predict(scaler1_df),columns = ['clusterid_DBSCAN'])\n",
    "print(y['clusterid_DBSCAN'].value_counts())"
   ]
  },
  {
   "cell_type": "code",
   "execution_count": 52,
   "id": "966749c7",
   "metadata": {
    "ExecuteTime": {
     "end_time": "2023-02-03T11:14:00.342141Z",
     "start_time": "2023-02-03T11:13:59.828751Z"
    }
   },
   "outputs": [
    {
     "name": "stdout",
     "output_type": "stream",
     "text": [
      "silhouette score:  0.6261231990669098\n"
     ]
    }
   ],
   "source": [
    "sil_score = silhouette_score(scaler1_df, dbscan2.labels_)\n",
    "print('silhouette score: ',sil_score)"
   ]
  },
  {
   "cell_type": "code",
   "execution_count": 53,
   "id": "3827e4f3",
   "metadata": {
    "ExecuteTime": {
     "end_time": "2023-02-03T11:14:57.270527Z",
     "start_time": "2023-02-03T11:14:54.806253Z"
    }
   },
   "outputs": [
    {
     "name": "stdout",
     "output_type": "stream",
     "text": [
      " 0    1166\n",
      " 3     925\n",
      " 6     699\n",
      " 2     615\n",
      " 1     474\n",
      "-1      56\n",
      " 4      48\n",
      " 5      16\n",
      "Name: clusterid_DBSCAN, dtype: int64\n"
     ]
    }
   ],
   "source": [
    "# for epsilon = 0.5\n",
    "\n",
    "dbscan3 = DBSCAN(eps = 0.5, min_samples = 12)\n",
    "dbscan3.fit(scaler1_df)\n",
    "\n",
    "y = pd.DataFrame(dbscan3.fit_predict(scaler1_df),columns = ['clusterid_DBSCAN'])\n",
    "print(y['clusterid_DBSCAN'].value_counts())"
   ]
  },
  {
   "cell_type": "code",
   "execution_count": 54,
   "id": "64437ff8",
   "metadata": {
    "ExecuteTime": {
     "end_time": "2023-02-03T11:15:05.902431Z",
     "start_time": "2023-02-03T11:15:05.378536Z"
    }
   },
   "outputs": [
    {
     "name": "stdout",
     "output_type": "stream",
     "text": [
      "silhouette score:  0.5870644557307444\n"
     ]
    }
   ],
   "source": [
    "sil_score = silhouette_score(scaler1_df, dbscan3.labels_)\n",
    "print('silhouette score: ',sil_score)"
   ]
  },
  {
   "cell_type": "code",
   "execution_count": 55,
   "id": "90d12840",
   "metadata": {
    "ExecuteTime": {
     "end_time": "2023-02-03T11:15:52.386697Z",
     "start_time": "2023-02-03T11:15:49.699063Z"
    }
   },
   "outputs": [
    {
     "name": "stdout",
     "output_type": "stream",
     "text": [
      " 0    1166\n",
      " 3     926\n",
      " 5     699\n",
      " 2     618\n",
      " 1     523\n",
      "-1      30\n",
      " 4      25\n",
      " 6      12\n",
      "Name: clusterid_DBSCAN, dtype: int64\n"
     ]
    }
   ],
   "source": [
    "# for epsilon = 0.55\n",
    "\n",
    "dbscan4 = DBSCAN(eps = 0.55, min_samples = 12)\n",
    "dbscan4.fit(scaler1_df)\n",
    "\n",
    "y = pd.DataFrame(dbscan4.fit_predict(scaler1_df),columns = ['clusterid_DBSCAN'])\n",
    "print(y['clusterid_DBSCAN'].value_counts())"
   ]
  },
  {
   "cell_type": "code",
   "execution_count": 56,
   "id": "915c83e5",
   "metadata": {
    "ExecuteTime": {
     "end_time": "2023-02-03T11:16:05.764524Z",
     "start_time": "2023-02-03T11:16:05.244427Z"
    }
   },
   "outputs": [
    {
     "name": "stdout",
     "output_type": "stream",
     "text": [
      "silhouette score:  0.6075903950018834\n"
     ]
    }
   ],
   "source": [
    "sil_score = silhouette_score(scaler1_df, dbscan4.labels_)\n",
    "print('silhouette score: ',sil_score)"
   ]
  },
  {
   "cell_type": "markdown",
   "id": "51a4dd39",
   "metadata": {},
   "source": [
    "When we have value of epsilon = 0.55, we are getting 6 clusters with data less than 50% in one cluster and also, silhouette score is more as compared to other dbscan models."
   ]
  },
  {
   "cell_type": "code",
   "execution_count": 58,
   "id": "0c2e9323",
   "metadata": {
    "ExecuteTime": {
     "end_time": "2023-02-03T11:17:14.144434Z",
     "start_time": "2023-02-03T11:17:14.109110Z"
    }
   },
   "outputs": [
    {
     "data": {
      "text/html": [
       "<div>\n",
       "<style scoped>\n",
       "    .dataframe tbody tr th:only-of-type {\n",
       "        vertical-align: middle;\n",
       "    }\n",
       "\n",
       "    .dataframe tbody tr th {\n",
       "        vertical-align: top;\n",
       "    }\n",
       "\n",
       "    .dataframe thead th {\n",
       "        text-align: right;\n",
       "    }\n",
       "</style>\n",
       "<table border=\"1\" class=\"dataframe\">\n",
       "  <thead>\n",
       "    <tr style=\"text-align: right;\">\n",
       "      <th></th>\n",
       "      <th>ID</th>\n",
       "      <th>Balance</th>\n",
       "      <th>Qual_miles</th>\n",
       "      <th>cc1_miles</th>\n",
       "      <th>cc2_miles</th>\n",
       "      <th>cc3_miles</th>\n",
       "      <th>Bonus_miles</th>\n",
       "      <th>Bonus_trans</th>\n",
       "      <th>Flight_miles_12mo</th>\n",
       "      <th>Flight_trans_12</th>\n",
       "      <th>Days_since_enroll</th>\n",
       "      <th>Award</th>\n",
       "      <th>clustersid_s1</th>\n",
       "      <th>clustersid_s2</th>\n",
       "      <th>clusterid_Kmeans</th>\n",
       "      <th>clusterid_DBSCAN</th>\n",
       "    </tr>\n",
       "  </thead>\n",
       "  <tbody>\n",
       "    <tr>\n",
       "      <th>0</th>\n",
       "      <td>1</td>\n",
       "      <td>28143</td>\n",
       "      <td>0</td>\n",
       "      <td>1</td>\n",
       "      <td>1</td>\n",
       "      <td>1</td>\n",
       "      <td>174</td>\n",
       "      <td>1</td>\n",
       "      <td>0</td>\n",
       "      <td>0</td>\n",
       "      <td>7000</td>\n",
       "      <td>0</td>\n",
       "      <td>1</td>\n",
       "      <td>1</td>\n",
       "      <td>1</td>\n",
       "      <td>0</td>\n",
       "    </tr>\n",
       "    <tr>\n",
       "      <th>1</th>\n",
       "      <td>2</td>\n",
       "      <td>19244</td>\n",
       "      <td>0</td>\n",
       "      <td>1</td>\n",
       "      <td>1</td>\n",
       "      <td>1</td>\n",
       "      <td>215</td>\n",
       "      <td>2</td>\n",
       "      <td>0</td>\n",
       "      <td>0</td>\n",
       "      <td>6968</td>\n",
       "      <td>0</td>\n",
       "      <td>1</td>\n",
       "      <td>1</td>\n",
       "      <td>1</td>\n",
       "      <td>0</td>\n",
       "    </tr>\n",
       "    <tr>\n",
       "      <th>2</th>\n",
       "      <td>3</td>\n",
       "      <td>41354</td>\n",
       "      <td>0</td>\n",
       "      <td>1</td>\n",
       "      <td>1</td>\n",
       "      <td>1</td>\n",
       "      <td>4123</td>\n",
       "      <td>4</td>\n",
       "      <td>0</td>\n",
       "      <td>0</td>\n",
       "      <td>7034</td>\n",
       "      <td>0</td>\n",
       "      <td>1</td>\n",
       "      <td>1</td>\n",
       "      <td>1</td>\n",
       "      <td>0</td>\n",
       "    </tr>\n",
       "    <tr>\n",
       "      <th>3</th>\n",
       "      <td>4</td>\n",
       "      <td>14776</td>\n",
       "      <td>0</td>\n",
       "      <td>1</td>\n",
       "      <td>1</td>\n",
       "      <td>1</td>\n",
       "      <td>500</td>\n",
       "      <td>1</td>\n",
       "      <td>0</td>\n",
       "      <td>0</td>\n",
       "      <td>6952</td>\n",
       "      <td>0</td>\n",
       "      <td>1</td>\n",
       "      <td>1</td>\n",
       "      <td>1</td>\n",
       "      <td>0</td>\n",
       "    </tr>\n",
       "    <tr>\n",
       "      <th>4</th>\n",
       "      <td>5</td>\n",
       "      <td>97752</td>\n",
       "      <td>0</td>\n",
       "      <td>4</td>\n",
       "      <td>1</td>\n",
       "      <td>1</td>\n",
       "      <td>43300</td>\n",
       "      <td>26</td>\n",
       "      <td>2077</td>\n",
       "      <td>4</td>\n",
       "      <td>6935</td>\n",
       "      <td>1</td>\n",
       "      <td>3</td>\n",
       "      <td>0</td>\n",
       "      <td>2</td>\n",
       "      <td>1</td>\n",
       "    </tr>\n",
       "  </tbody>\n",
       "</table>\n",
       "</div>"
      ],
      "text/plain": [
       "   ID  Balance  Qual_miles  cc1_miles  cc2_miles  cc3_miles  Bonus_miles  \\\n",
       "0   1    28143           0          1          1          1          174   \n",
       "1   2    19244           0          1          1          1          215   \n",
       "2   3    41354           0          1          1          1         4123   \n",
       "3   4    14776           0          1          1          1          500   \n",
       "4   5    97752           0          4          1          1        43300   \n",
       "\n",
       "   Bonus_trans  Flight_miles_12mo  Flight_trans_12  Days_since_enroll  Award  \\\n",
       "0            1                  0                0               7000      0   \n",
       "1            2                  0                0               6968      0   \n",
       "2            4                  0                0               7034      0   \n",
       "3            1                  0                0               6952      0   \n",
       "4           26               2077                4               6935      1   \n",
       "\n",
       "   clustersid_s1  clustersid_s2  clusterid_Kmeans  clusterid_DBSCAN  \n",
       "0              1              1                 1                 0  \n",
       "1              1              1                 1                 0  \n",
       "2              1              1                 1                 0  \n",
       "3              1              1                 1                 0  \n",
       "4              3              0                 2                 1  "
      ]
     },
     "execution_count": 58,
     "metadata": {},
     "output_type": "execute_result"
    }
   ],
   "source": [
    "df['clusterid_DBSCAN'] = dbscan4.labels_\n",
    "df1['clusterid_DBSCAN'] = dbscan4.labels_\n",
    "df.head()"
   ]
  },
  {
   "cell_type": "code",
   "execution_count": 59,
   "id": "4415020b",
   "metadata": {
    "ExecuteTime": {
     "end_time": "2023-02-03T11:18:14.026361Z",
     "start_time": "2023-02-03T11:18:13.580794Z"
    }
   },
   "outputs": [
    {
     "data": {
      "text/plain": [
       "Text(0, 0.5, 'ID counts')"
      ]
     },
     "execution_count": 59,
     "metadata": {},
     "output_type": "execute_result"
    },
    {
     "data": {
      "image/png": "[encoded data removed]",
      "text/plain": [
       "<Figure size 1600x1200 with 1 Axes>"
      ]
     },
     "metadata": {},
     "output_type": "display_data"
    }
   ],
   "source": [
    "# Plotting barplot using groupby method to get visualize of how many row number in each cluster\n",
    "\n",
    "df.groupby(['clusterid_DBSCAN']).count()['ID'].plot(kind='bar')\n",
    "plt.title('Hierarchical Clustering')\n",
    "plt.xlabel('Clusters')\n",
    "plt.ylabel('ID counts')"
   ]
  },
  {
   "cell_type": "code",
   "execution_count": 60,
   "id": "f0a233fa",
   "metadata": {
    "ExecuteTime": {
     "end_time": "2023-02-03T11:18:42.602766Z",
     "start_time": "2023-02-03T11:18:42.544865Z"
    }
   },
   "outputs": [
    {
     "data": {
      "text/html": [
       "<div>\n",
       "<style scoped>\n",
       "    .dataframe tbody tr th:only-of-type {\n",
       "        vertical-align: middle;\n",
       "    }\n",
       "\n",
       "    .dataframe tbody tr th {\n",
       "        vertical-align: top;\n",
       "    }\n",
       "\n",
       "    .dataframe thead tr th {\n",
       "        text-align: left;\n",
       "    }\n",
       "</style>\n",
       "<table border=\"1\" class=\"dataframe\">\n",
       "  <thead>\n",
       "    <tr>\n",
       "      <th></th>\n",
       "      <th>clusterid_DBSCAN</th>\n",
       "      <th>Balance</th>\n",
       "      <th>Qual_miles</th>\n",
       "      <th>cc1_miles</th>\n",
       "      <th>cc2_miles</th>\n",
       "      <th>cc3_miles</th>\n",
       "      <th>Bonus_miles</th>\n",
       "      <th>Bonus_trans</th>\n",
       "      <th>Flight_miles_12mo</th>\n",
       "      <th>Flight_trans_12</th>\n",
       "      <th>Days_since_enroll</th>\n",
       "      <th>Award</th>\n",
       "      <th>clustersid_s1</th>\n",
       "      <th>clustersid_s2</th>\n",
       "      <th>clusterid_Kmeans</th>\n",
       "    </tr>\n",
       "    <tr>\n",
       "      <th></th>\n",
       "      <th></th>\n",
       "      <th>mean</th>\n",
       "      <th>mean</th>\n",
       "      <th>mean</th>\n",
       "      <th>mean</th>\n",
       "      <th>mean</th>\n",
       "      <th>mean</th>\n",
       "      <th>mean</th>\n",
       "      <th>mean</th>\n",
       "      <th>mean</th>\n",
       "      <th>mean</th>\n",
       "      <th>mean</th>\n",
       "      <th>mean</th>\n",
       "      <th>mean</th>\n",
       "      <th>mean</th>\n",
       "    </tr>\n",
       "  </thead>\n",
       "  <tbody>\n",
       "    <tr>\n",
       "      <th>0</th>\n",
       "      <td>-1</td>\n",
       "      <td>183411.700000</td>\n",
       "      <td>429.833333</td>\n",
       "      <td>2.833333</td>\n",
       "      <td>1.333333</td>\n",
       "      <td>2.633333</td>\n",
       "      <td>72041.633333</td>\n",
       "      <td>30.533333</td>\n",
       "      <td>3054.166667</td>\n",
       "      <td>8.600000</td>\n",
       "      <td>4367.433333</td>\n",
       "      <td>0.666667</td>\n",
       "      <td>1.833333</td>\n",
       "      <td>3.200000</td>\n",
       "      <td>1.7</td>\n",
       "    </tr>\n",
       "    <tr>\n",
       "      <th>1</th>\n",
       "      <td>0</td>\n",
       "      <td>46899.698971</td>\n",
       "      <td>79.234991</td>\n",
       "      <td>1.147513</td>\n",
       "      <td>1.000000</td>\n",
       "      <td>1.000000</td>\n",
       "      <td>3461.704974</td>\n",
       "      <td>6.469983</td>\n",
       "      <td>159.826758</td>\n",
       "      <td>0.484563</td>\n",
       "      <td>4864.476844</td>\n",
       "      <td>0.000000</td>\n",
       "      <td>1.155232</td>\n",
       "      <td>0.982847</td>\n",
       "      <td>1.0</td>\n",
       "    </tr>\n",
       "    <tr>\n",
       "      <th>2</th>\n",
       "      <td>1</td>\n",
       "      <td>128144.883365</td>\n",
       "      <td>159.577438</td>\n",
       "      <td>4.384321</td>\n",
       "      <td>1.000000</td>\n",
       "      <td>1.000000</td>\n",
       "      <td>57731.363289</td>\n",
       "      <td>21.841300</td>\n",
       "      <td>878.879541</td>\n",
       "      <td>2.755258</td>\n",
       "      <td>5092.133843</td>\n",
       "      <td>1.000000</td>\n",
       "      <td>3.000000</td>\n",
       "      <td>0.187380</td>\n",
       "      <td>2.0</td>\n",
       "    </tr>\n",
       "    <tr>\n",
       "      <th>3</th>\n",
       "      <td>2</td>\n",
       "      <td>116706.328479</td>\n",
       "      <td>96.529126</td>\n",
       "      <td>3.563107</td>\n",
       "      <td>1.000000</td>\n",
       "      <td>1.000000</td>\n",
       "      <td>30816.666667</td>\n",
       "      <td>17.226537</td>\n",
       "      <td>224.990291</td>\n",
       "      <td>0.634304</td>\n",
       "      <td>4406.014563</td>\n",
       "      <td>0.000000</td>\n",
       "      <td>2.000000</td>\n",
       "      <td>0.333333</td>\n",
       "      <td>4.0</td>\n",
       "    </tr>\n",
       "    <tr>\n",
       "      <th>4</th>\n",
       "      <td>3</td>\n",
       "      <td>77576.992441</td>\n",
       "      <td>280.104752</td>\n",
       "      <td>1.707343</td>\n",
       "      <td>1.000000</td>\n",
       "      <td>1.000000</td>\n",
       "      <td>11772.331533</td>\n",
       "      <td>11.903888</td>\n",
       "      <td>768.916847</td>\n",
       "      <td>2.303456</td>\n",
       "      <td>4364.233261</td>\n",
       "      <td>1.000000</td>\n",
       "      <td>0.000000</td>\n",
       "      <td>0.586393</td>\n",
       "      <td>0.0</td>\n",
       "    </tr>\n",
       "    <tr>\n",
       "      <th>5</th>\n",
       "      <td>4</td>\n",
       "      <td>43494.400000</td>\n",
       "      <td>0.000000</td>\n",
       "      <td>1.000000</td>\n",
       "      <td>2.360000</td>\n",
       "      <td>1.000000</td>\n",
       "      <td>11483.320000</td>\n",
       "      <td>13.800000</td>\n",
       "      <td>150.000000</td>\n",
       "      <td>0.600000</td>\n",
       "      <td>3544.400000</td>\n",
       "      <td>0.000000</td>\n",
       "      <td>1.000000</td>\n",
       "      <td>3.000000</td>\n",
       "      <td>1.0</td>\n",
       "    </tr>\n",
       "    <tr>\n",
       "      <th>6</th>\n",
       "      <td>5</td>\n",
       "      <td>30013.416309</td>\n",
       "      <td>98.054363</td>\n",
       "      <td>1.000000</td>\n",
       "      <td>1.000000</td>\n",
       "      <td>1.000000</td>\n",
       "      <td>2552.569385</td>\n",
       "      <td>6.101574</td>\n",
       "      <td>340.274678</td>\n",
       "      <td>0.948498</td>\n",
       "      <td>1568.864092</td>\n",
       "      <td>0.000000</td>\n",
       "      <td>4.000000</td>\n",
       "      <td>1.011445</td>\n",
       "      <td>3.0</td>\n",
       "    </tr>\n",
       "    <tr>\n",
       "      <th>7</th>\n",
       "      <td>6</td>\n",
       "      <td>91415.916667</td>\n",
       "      <td>0.000000</td>\n",
       "      <td>1.083333</td>\n",
       "      <td>2.166667</td>\n",
       "      <td>1.000000</td>\n",
       "      <td>12827.666667</td>\n",
       "      <td>19.500000</td>\n",
       "      <td>788.583333</td>\n",
       "      <td>2.166667</td>\n",
       "      <td>4540.583333</td>\n",
       "      <td>1.000000</td>\n",
       "      <td>0.000000</td>\n",
       "      <td>3.000000</td>\n",
       "      <td>0.0</td>\n",
       "    </tr>\n",
       "  </tbody>\n",
       "</table>\n",
       "</div>"
      ],
      "text/plain": [
       "  clusterid_DBSCAN        Balance  Qual_miles cc1_miles cc2_miles cc3_miles  \\\n",
       "                             mean        mean      mean      mean      mean   \n",
       "0               -1  183411.700000  429.833333  2.833333  1.333333  2.633333   \n",
       "1                0   46899.698971   79.234991  1.147513  1.000000  1.000000   \n",
       "2                1  128144.883365  159.577438  4.384321  1.000000  1.000000   \n",
       "3                2  116706.328479   96.529126  3.563107  1.000000  1.000000   \n",
       "4                3   77576.992441  280.104752  1.707343  1.000000  1.000000   \n",
       "5                4   43494.400000    0.000000  1.000000  2.360000  1.000000   \n",
       "6                5   30013.416309   98.054363  1.000000  1.000000  1.000000   \n",
       "7                6   91415.916667    0.000000  1.083333  2.166667  1.000000   \n",
       "\n",
       "    Bonus_miles Bonus_trans Flight_miles_12mo Flight_trans_12  \\\n",
       "           mean        mean              mean            mean   \n",
       "0  72041.633333   30.533333       3054.166667        8.600000   \n",
       "1   3461.704974    6.469983        159.826758        0.484563   \n",
       "2  57731.363289   21.841300        878.879541        2.755258   \n",
       "3  30816.666667   17.226537        224.990291        0.634304   \n",
       "4  11772.331533   11.903888        768.916847        2.303456   \n",
       "5  11483.320000   13.800000        150.000000        0.600000   \n",
       "6   2552.569385    6.101574        340.274678        0.948498   \n",
       "7  12827.666667   19.500000        788.583333        2.166667   \n",
       "\n",
       "  Days_since_enroll     Award clustersid_s1 clustersid_s2 clusterid_Kmeans  \n",
       "               mean      mean          mean          mean             mean  \n",
       "0       4367.433333  0.666667      1.833333      3.200000              1.7  \n",
       "1       4864.476844  0.000000      1.155232      0.982847              1.0  \n",
       "2       5092.133843  1.000000      3.000000      0.187380              2.0  \n",
       "3       4406.014563  0.000000      2.000000      0.333333              4.0  \n",
       "4       4364.233261  1.000000      0.000000      0.586393              0.0  \n",
       "5       3544.400000  0.000000      1.000000      3.000000              1.0  \n",
       "6       1568.864092  0.000000      4.000000      1.011445              3.0  \n",
       "7       4540.583333  1.000000      0.000000      3.000000              0.0  "
      ]
     },
     "execution_count": 60,
     "metadata": {},
     "output_type": "execute_result"
    }
   ],
   "source": [
    "df1.groupby('clusterid_DBSCAN').agg(['mean']).reset_index()"
   ]
  }
 ],
 "metadata": {
  "kernelspec": {
   "display_name": "Python 3 (ipykernel)",
   "language": "python",
   "name": "python3"
  },
  "language_info": {
   "codemirror_mode": {
    "name": "ipython",
    "version": 3
   },
   "file_extension": ".py",
   "mimetype": "text/x-python",
   "name": "python",
   "nbconvert_exporter": "python",
   "pygments_lexer": "ipython3",
   "version": "3.9.13"
  }
 },
 "nbformat": 4,
 "nbformat_minor": 5
}
